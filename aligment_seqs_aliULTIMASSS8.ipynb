{
 "cells": [
  {
   "cell_type": "code",
   "execution_count": 1,
   "id": "99297a16-d9b5-4566-9651-98035e7979c3",
   "metadata": {},
   "outputs": [],
   "source": [
    "from Bio import SeqIO"
   ]
  },
  {
   "cell_type": "code",
   "execution_count": 2,
   "id": "340acecc-d7b6-4c97-8a63-1eb879725e8a",
   "metadata": {},
   "outputs": [],
   "source": [
    "fasta = list(SeqIO.parse('seqdump8.fa',format = 'fasta'))"
   ]
  },
  {
   "cell_type": "code",
   "execution_count": 3,
   "id": "c890d119-0e26-4eed-b00e-f78bd78b88f6",
   "metadata": {},
   "outputs": [
    {
     "data": {
      "text/plain": [
       "[SeqRecord(seq=Seq('AGCTTAAATCAACTTTTTCATTTCTACTGAGAAGGAACCAATGATTTTCTTATT...AGA'), id='LR782546.1:3303142-3305503', name='LR782546.1:3303142-3305503', description='LR782546.1:3303142-3305503 Arabidopsis thaliana genome assembly, chromosome: 5', dbxrefs=[]),\n",
       " SeqRecord(seq=Seq('AGCTTAAATCAACTTTTTCATTTCTACTGAGAAGGAACCAATGATTTTCTTATT...AGA'), id='OX291723.1:3307356-3309717', name='OX291723.1:3307356-3309717', description='OX291723.1:3307356-3309717 Arabidopsis thaliana genome assembly, chromosome: 5', dbxrefs=[]),\n",
       " SeqRecord(seq=Seq('AGCTTAAATCAACTTTTTCATTTCTACTGAGAAGGAACCAATGATTTTCTTATT...AGA'), id='OX291658.1:3300638-3302999', name='OX291658.1:3300638-3302999', description='OX291658.1:3300638-3302999 Arabidopsis thaliana genome assembly, chromosome: 5', dbxrefs=[]),\n",
       " SeqRecord(seq=Seq('AGCTTAAATCAACTTTTTCATTTCTACTGAGAAGGAACCAATGATTTTCTTATT...AGA'), id='OX291433.1:3328224-3330585', name='OX291433.1:3328224-3330585', description='OX291433.1:3328224-3330585 Arabidopsis thaliana genome assembly, chromosome: 5', dbxrefs=[]),\n",
       " SeqRecord(seq=Seq('AGCTTAAATCAACTTTTTCATTTCTACTGAGAAGGAACCAATGATTTTCTTATT...AGA'), id='CP116284.1:3303132-3305493', name='CP116284.1:3303132-3305493', description='CP116284.1:3303132-3305493 Arabidopsis thaliana chromosome 5', dbxrefs=[]),\n",
       " SeqRecord(seq=Seq('AGCTTAAATCAACTTTTTCATTTCTACTGAGAAGGAACCAATGATTTTCTTATT...AGA'), id='OX298801.1:3310181-3312542', name='OX298801.1:3310181-3312542', description='OX298801.1:3310181-3312542 Arabidopsis thaliana genome assembly, chromosome: 5', dbxrefs=[]),\n",
       " SeqRecord(seq=Seq('AGCTTAAATCAACTTTTTCATTTCTACTGAGAAGGAACCAATGATTTTCTTATT...AGA'), id='OX298806.1:3303828-3306189', name='OX298806.1:3303828-3306189', description='OX298806.1:3303828-3306189 Arabidopsis thaliana genome assembly, chromosome: 5', dbxrefs=[]),\n",
       " SeqRecord(seq=Seq('AGCTTAAATCAACTTTTTCATTTCTACTGAGAAGGAACCAATGATTTTCTTATT...AGA'), id='CP087130.2:3303193-3305554', name='CP087130.2:3303193-3305554', description='CP087130.2:3303193-3305554 Arabidopsis thaliana chromosome 5', dbxrefs=[]),\n",
       " SeqRecord(seq=Seq('AGCTTAAATCAACTTTTTCATTTCTACTGAGAAGGAACCAATGATTTTCTTATT...AGA'), id='CP096028.1:3303020-3305381', name='CP096028.1:3303020-3305381', description='CP096028.1:3303020-3305381 Arabidopsis thaliana isolate t2t_salk_col chromosome 5', dbxrefs=[]),\n",
       " SeqRecord(seq=Seq('AGCTTAAATCAACTTTTTCATTTCTACTGAGAAGGAACCAATGATTTTCTTATT...AGA'), id='CP002688.1:3297804-3300165', name='CP002688.1:3297804-3300165', description='CP002688.1:3297804-3300165 Arabidopsis thaliana chromosome 5', dbxrefs=[]),\n",
       " SeqRecord(seq=Seq('TCTCTAGTCATGATGTAATTCATAAATGCTCCTCTCCTCCGATCTCTCCGCCAT...GCT'), id='AL353995.1:64696-67057', name='AL353995.1:64696-67057', description='AL353995.1:64696-67057 Arabidopsis thaliana DNA chromosome 5, BAC clone F12B17 (ESSA project)', dbxrefs=[]),\n",
       " SeqRecord(seq=Seq('AGCTTAAGTCAACTTTTTCATTTCTACTGAGAAGGAACCAATGATTTTCTTATT...AGA'), id='LR699774.1:3313175-3315536', name='LR699774.1:3313175-3315536', description='LR699774.1:3313175-3315536 Arabidopsis thaliana genome assembly, chromosome: 5', dbxrefs=[]),\n",
       " SeqRecord(seq=Seq('AGCTTAAGTCAACTTTTTCATTTCTACTGAGAAGGAACCAATGATTTTCTTATT...AGA'), id='LR215056.1:3313175-3315536', name='LR215056.1:3313175-3315536', description='LR215056.1:3313175-3315536 Arabidopsis thaliana genome assembly, chromosome: 5', dbxrefs=[]),\n",
       " SeqRecord(seq=Seq('AGCTTAAGTCAACTTTTTCATTTCTACTGAGAAGGAACCAATGATTTTCTTATT...AGA'), id='OX291575.1:3316721-3319082', name='OX291575.1:3316721-3319082', description='OX291575.1:3316721-3319082 Arabidopsis thaliana genome assembly, chromosome: 5', dbxrefs=[]),\n",
       " SeqRecord(seq=Seq('AGCTTAAGTCAACTTTTTCATTTCTACTGAGAAGGAACCAATGATTTTCTTATT...AGA'), id='CP086748.1:3300545-3302906', name='CP086748.1:3300545-3302906', description='CP086748.1:3300545-3302906 Arabidopsis thaliana ecotype 6021 chromosome 5 sequence', dbxrefs=[]),\n",
       " SeqRecord(seq=Seq('AGCTTAAGTCAACTTTTTCATTTCTACTGAGAAGGAACCAATGATTTTCTTATT...AGA'), id='CP086733.1:3302416-3304777', name='CP086733.1:3302416-3304777', description='CP086733.1:3302416-3304777 Arabidopsis thaliana ecotype 9470 chromosome 5 sequence', dbxrefs=[]),\n",
       " SeqRecord(seq=Seq('AGCTTAAGTCAACTTTTTCATTTCTACTGAGAAGGAACCAATGATTTTCTTATT...AGA'), id='LR797796.1:3317662-3320023', name='LR797796.1:3317662-3320023', description='LR797796.1:3317662-3320023 Arabidopsis thaliana genome assembly, chromosome: 5', dbxrefs=[]),\n",
       " SeqRecord(seq=Seq('AGCTTAAATCAACTTTTTCATTTCTACTGAGAAGGAACCAATGATTTTCTTATT...AGA'), id='OX291686.1:3337551-3339911', name='OX291686.1:3337551-3339911', description='OX291686.1:3337551-3339911 Arabidopsis thaliana genome assembly, chromosome: 5', dbxrefs=[]),\n",
       " SeqRecord(seq=Seq('AGCTTAAATCAACTTTTTCATTTCTACTGAGAAGGAACCAATGATTTTCTTATT...AGA'), id='OX291522.1:3342074-3344434', name='OX291522.1:3342074-3344434', description='OX291522.1:3342074-3344434 Arabidopsis thaliana genome assembly, chromosome: 5', dbxrefs=[]),\n",
       " SeqRecord(seq=Seq('AGCTTAAATCAACTTTTTCATTTCTACTGAGAAGGAACCAATGATTTTCTTATT...AGA'), id='OX291804.1:3343745-3346106', name='OX291804.1:3343745-3346106', description='OX291804.1:3343745-3346106 Arabidopsis thaliana genome assembly, chromosome: 5', dbxrefs=[])]"
      ]
     },
     "execution_count": 3,
     "metadata": {},
     "output_type": "execute_result"
    }
   ],
   "source": [
    "fasta"
   ]
  },
  {
   "cell_type": "code",
   "execution_count": 4,
   "id": "14bf7d28-7047-4c38-9b3b-9d7a2039c8e6",
   "metadata": {},
   "outputs": [
    {
     "name": "stdout",
     "output_type": "stream",
     "text": [
      "LR782546.1:3303142-3305503\n",
      "OX291723.1:3307356-3309717\n",
      "OX291658.1:3300638-3302999\n",
      "OX291433.1:3328224-3330585\n",
      "CP116284.1:3303132-3305493\n",
      "OX298801.1:3310181-3312542\n",
      "OX298806.1:3303828-3306189\n",
      "CP087130.2:3303193-3305554\n",
      "CP096028.1:3303020-3305381\n",
      "CP002688.1:3297804-3300165\n",
      "AL353995.1:64696-67057\n",
      "LR699774.1:3313175-3315536\n",
      "LR215056.1:3313175-3315536\n",
      "OX291575.1:3316721-3319082\n",
      "CP086748.1:3300545-3302906\n",
      "CP086733.1:3302416-3304777\n",
      "LR797796.1:3317662-3320023\n",
      "OX291686.1:3337551-3339911\n",
      "OX291522.1:3342074-3344434\n",
      "OX291804.1:3343745-3346106\n"
     ]
    }
   ],
   "source": [
    "for entry in fasta:\n",
    "    print(entry.id)"
   ]
  },
  {
   "cell_type": "code",
   "execution_count": 5,
   "id": "530ca49f-a680-4f30-a2ca-7bac8d59e700",
   "metadata": {},
   "outputs": [],
   "source": [
    "seqs={}\n",
    "for entry in fasta:\n",
    "    seqs[entry.id]=entry"
   ]
  },
  {
   "cell_type": "code",
   "execution_count": 7,
   "id": "dc3e29a1-5e9c-4576-8da7-423d04731522",
   "metadata": {},
   "outputs": [
    {
     "data": {
      "text/plain": [
       "SeqRecord(seq=Seq('AGCTTAAGTCAACTTTTTCATTTCTACTGAGAAGGAACCAATGATTTTCTTATT...AGA'), id='CP086758.1:3302941-3305302', name='CP086758.1:3302941-3305302', description='CP086758.1:3302941-3305302 Arabidopsis thaliana ecotype 1254 chromosome 5 sequence', dbxrefs=[])"
      ]
     },
     "execution_count": 7,
     "metadata": {},
     "output_type": "execute_result"
    }
   ],
   "source": [
    "seqs['CP086758.1:3302941-3305302']"
   ]
  },
  {
   "cell_type": "code",
   "execution_count": 10,
   "id": "ae46df2a-ec83-4ae6-9465-5efddd1dfbf0",
   "metadata": {},
   "outputs": [
    {
     "data": {
      "text/plain": [
       "2362"
      ]
     },
     "execution_count": 10,
     "metadata": {},
     "output_type": "execute_result"
    }
   ],
   "source": [
    "X=seqs['CP086758.1:3302941-3305302'].seq\n",
    "len(X)"
   ]
  },
  {
   "cell_type": "code",
   "execution_count": 7,
   "id": "654575dd-6d57-49e4-8c85-d7d9245ff2fc",
   "metadata": {},
   "outputs": [
    {
     "name": "stdout",
     "output_type": "stream",
     "text": [
      "2362\n",
      "2362\n",
      "2362\n",
      "2362\n",
      "2362\n",
      "2362\n",
      "2362\n",
      "2362\n",
      "2362\n",
      "2362\n",
      "2362\n",
      "2362\n",
      "2362\n",
      "2362\n",
      "2362\n",
      "2362\n",
      "2362\n",
      "2361\n",
      "2361\n",
      "2362\n"
     ]
    }
   ],
   "source": [
    "for entry in fasta:\n",
    "    print(len(entry.seq))"
   ]
  },
  {
   "cell_type": "code",
   "execution_count": 6,
   "id": "af2d0224-02e8-4998-95f8-0f98a75aa2c0",
   "metadata": {},
   "outputs": [
    {
     "name": "stdout",
     "output_type": "stream",
     "text": [
      "nthread = 0\n",
      "nthreadpair = 0\n",
      "nthreadtb = 0\n",
      "ppenalty_ex = 0\n",
      "stacksize: 8192 kb\n",
      "generating a scoring matrix for nucleotide (dist=200) ... done\n",
      "Gap Penalty = -1.53, +0.00, +0.00\n",
      "\n",
      "\n",
      "\n",
      "Making a distance matrix ..\n",
      "    1 / 20\n",
      "done.\n",
      "\n",
      "Constructing a UPGMA tree (efffree=0) ... \n",
      "   10 / 20\n",
      "done.\n",
      "\n",
      "Progressive alignment 1/2... \n",
      "STEP    17 / 19 \n",
      "Reallocating..done. *alloclen = 5726\n",
      "STEP    19 / 19 \n",
      "done.\n",
      "\n",
      "Making a distance matrix from msa.. \n",
      "    0 / 20\n",
      "done.\n",
      "\n",
      "Constructing a UPGMA tree (efffree=1) ... \n",
      "   10 / 20\n",
      "done.\n",
      "\n",
      "Progressive alignment 2/2... \n",
      "STEP    18 / 19 \n",
      "Reallocating..done. *alloclen = 5726\n",
      "STEP    19 / 19 \n",
      "done.\n",
      "\n",
      "disttbfast (nuc) Version 7.515\n",
      "alg=A, model=DNA200 (2), 1.53 (4.59), -0.00 (-0.00), noshift, amax=0.0\n",
      "0 thread(s)\n",
      "\n",
      "\n",
      "Strategy:\n",
      " FFT-NS-2 (Fast but rough)\n",
      " Progressive method (guide trees were built 2 times.)\n",
      "\n",
      "If unsure which option to use, try 'mafft --auto input > output'.\n",
      "For more information, see 'mafft --help', 'mafft --man' and the mafft page.\n",
      "\n",
      "The default gap scoring scheme has been changed in version 7.110 (2013 Oct).\n",
      "It tends to insert more gaps into gap-rich regions than previous versions.\n",
      "To disable this change, add the --leavegappyregion option.\n",
      "\n"
     ]
    }
   ],
   "source": [
    "#mafft\n",
    "!mafft seqdump8.fa > secuencia_ali8.fasta"
   ]
  },
  {
   "cell_type": "code",
   "execution_count": 8,
   "id": "740fe40c-46e9-4735-ad99-458c320e0d5f",
   "metadata": {},
   "outputs": [],
   "source": [
    "fasta = list(SeqIO.parse('secuencia_ali.fasta',format = 'fasta'))"
   ]
  },
  {
   "cell_type": "code",
   "execution_count": 9,
   "id": "119a1fe7-39ea-4bf6-bdc9-3ab5441c02b1",
   "metadata": {},
   "outputs": [
    {
     "data": {
      "text/plain": [
       "[SeqRecord(seq=Seq('agcttaagtcaactttttcatttctactgagaaggaaccaatgattttcttatt...aga'), id='LR215056.1:3313175-3315536', name='LR215056.1:3313175-3315536', description='LR215056.1:3313175-3315536 Arabidopsis thaliana genome assembly, chromosome: 5', dbxrefs=[]),\n",
       " SeqRecord(seq=Seq('agcttaagtcaactttttcatttctactgagaaggaaccaatgattttcttatt...aga'), id='OX291575.1:3316721-3319082', name='OX291575.1:3316721-3319082', description='OX291575.1:3316721-3319082 Arabidopsis thaliana genome assembly, chromosome: 5', dbxrefs=[]),\n",
       " SeqRecord(seq=Seq('agcttaagtcaactttttcatttctactgagaaggaaccaatgattttcttatt...aga'), id='CP086748.1:3300545-3302906', name='CP086748.1:3300545-3302906', description='CP086748.1:3300545-3302906 Arabidopsis thaliana ecotype 6021 chromosome 5 sequence', dbxrefs=[]),\n",
       " SeqRecord(seq=Seq('agcttaagtcaactttttcatttctactgagaaggaaccaatgattttcttatt...aga'), id='CP086733.1:3302416-3304777', name='CP086733.1:3302416-3304777', description='CP086733.1:3302416-3304777 Arabidopsis thaliana ecotype 9470 chromosome 5 sequence', dbxrefs=[]),\n",
       " SeqRecord(seq=Seq('agcttaagtcaactttttcatttctactgagaaggaaccaatgattttcttatt...aga'), id='LR797796.1:3317662-3320023', name='LR797796.1:3317662-3320023', description='LR797796.1:3317662-3320023 Arabidopsis thaliana genome assembly, chromosome: 5', dbxrefs=[]),\n",
       " SeqRecord(seq=Seq('agcttaaatcaactttttcatttctactgagaaggaaccaatgattttcttatt...aga'), id='OX291686.1:3337551-3339911', name='OX291686.1:3337551-3339911', description='OX291686.1:3337551-3339911 Arabidopsis thaliana genome assembly, chromosome: 5', dbxrefs=[]),\n",
       " SeqRecord(seq=Seq('agcttaaatcaactttttcatttctactgagaaggaaccaatgattttcttatt...aga'), id='OX291522.1:3342074-3344434', name='OX291522.1:3342074-3344434', description='OX291522.1:3342074-3344434 Arabidopsis thaliana genome assembly, chromosome: 5', dbxrefs=[]),\n",
       " SeqRecord(seq=Seq('agcttaaatcaactttttcatttctactgagaaggaaccaatgattttcttatt...aga'), id='OX291804.1:3343745-3346106', name='OX291804.1:3343745-3346106', description='OX291804.1:3343745-3346106 Arabidopsis thaliana genome assembly, chromosome: 5', dbxrefs=[]),\n",
       " SeqRecord(seq=Seq('agcttaagtcaactttttcatttctactgagaaggaaccaatgattttcttatt...aga'), id='OX291759.1:3322924-3325283', name='OX291759.1:3322924-3325283', description='OX291759.1:3322924-3325283 Arabidopsis thaliana genome assembly, chromosome: 5', dbxrefs=[]),\n",
       " SeqRecord(seq=Seq('agcttaagtcaactttttcatttctactgagaaggaaccaatgattttcttatt...aga'), id='OX291699.1:3332675-3335034', name='OX291699.1:3332675-3335034', description='OX291699.1:3332675-3335034 Arabidopsis thaliana genome assembly, chromosome: 5', dbxrefs=[]),\n",
       " SeqRecord(seq=Seq('agcttaagtcaactttttcatttctactgagaaggaaccaatgattttcttatt...aga'), id='OX291599.1:3294901-3297260', name='OX291599.1:3294901-3297260', description='OX291599.1:3294901-3297260 Arabidopsis thaliana genome assembly, chromosome: 5', dbxrefs=[]),\n",
       " SeqRecord(seq=Seq('agcttaagtcaactttttcatttctactgagaaggaaccaatgattttcttatt...aga'), id='OW119600.1:3318222-3320581', name='OW119600.1:3318222-3320581', description='OW119600.1:3318222-3320581 Arabidopsis thaliana genome assembly, chromosome: 5', dbxrefs=[]),\n",
       " SeqRecord(seq=Seq('agcttaagtcaactttttcatttctactgagaaggaaccaatgattttcttatt...aga'), id='LR881470.1:3325338-3327697', name='LR881470.1:3325338-3327697', description='LR881470.1:3325338-3327697 Arabidopsis thaliana genome assembly, chromosome: 5', dbxrefs=[]),\n",
       " SeqRecord(seq=Seq('agcttaagtcaactttttcatttctactgtgaaggaaccaatgattttcttatt...aga'), id='LR699749.2:3295135-3297495', name='LR699749.2:3295135-3297495', description='LR699749.2:3295135-3297495 Arabidopsis thaliana genome assembly, chromosome: 5', dbxrefs=[]),\n",
       " SeqRecord(seq=Seq('agcttaaatcaactttttcatttctactgagaaggaaccaatgattttcttatt...aga'), id='LR699764.1:3302269-3304635', name='LR699764.1:3302269-3304635', description='LR699764.1:3302269-3304635 Arabidopsis thaliana genome assembly, chromosome: 5', dbxrefs=[]),\n",
       " SeqRecord(seq=Seq('agcttaagtcaactttttcatttctactgtgaaggaaccaatgattttcttatt...aga'), id='OX291814.1:3319491-3321851', name='OX291814.1:3319491-3321851', description='OX291814.1:3319491-3321851 Arabidopsis thaliana genome assembly, chromosome: 5', dbxrefs=[]),\n",
       " SeqRecord(seq=Seq('agcttaagtcaactttttcatttctactgtgaaggaaccaatgattttcttatt...aga'), id='OX291790.1:3344793-3347153', name='OX291790.1:3344793-3347153', description='OX291790.1:3344793-3347153 Arabidopsis thaliana genome assembly, chromosome: 5', dbxrefs=[]),\n",
       " SeqRecord(seq=Seq('agcttaaatcaactttttcatttctactgagaaggaaccaatgattttcttatt...aga'), id='OX291779.1:3306597-3308963', name='OX291779.1:3306597-3308963', description='OX291779.1:3306597-3308963 Arabidopsis thaliana genome assembly, chromosome: 5', dbxrefs=[]),\n",
       " SeqRecord(seq=Seq('agcttaagtcaactttttcatttctactgtgaaggaaccaatgattttcttatt...aga'), id='OX291764.1:3339042-3341402', name='OX291764.1:3339042-3341402', description='OX291764.1:3339042-3341402 Arabidopsis thaliana genome assembly, chromosome: 5', dbxrefs=[]),\n",
       " SeqRecord(seq=Seq('agcttaagtcaactttttcatttctactgtgaaggaaccaatgattttcttatt...aga'), id='OX291745.1:3307809-3310169', name='OX291745.1:3307809-3310169', description='OX291745.1:3307809-3310169 Arabidopsis thaliana genome assembly, chromosome: 5', dbxrefs=[]),\n",
       " SeqRecord(seq=Seq('agcttaagtcaactttttcatttctactgtgaaggaaccaatgattttcttatt...aga'), id='OX291739.1:3334666-3337026', name='OX291739.1:3334666-3337026', description='OX291739.1:3334666-3337026 Arabidopsis thaliana genome assembly, chromosome: 5', dbxrefs=[]),\n",
       " SeqRecord(seq=Seq('agcttaagtcaactttttcatttctactgtgaaggaaccaatgattttcttatt...aga'), id='OX291734.1:3340251-3342611', name='OX291734.1:3340251-3342611', description='OX291734.1:3340251-3342611 Arabidopsis thaliana genome assembly, chromosome: 5', dbxrefs=[]),\n",
       " SeqRecord(seq=Seq('agcttaagtcaactttttcatttctactgtgaaggaaccaatgattttcttatt...aga'), id='OX291675.1:3319632-3321992', name='OX291675.1:3319632-3321992', description='OX291675.1:3319632-3321992 Arabidopsis thaliana genome assembly, chromosome: 5', dbxrefs=[]),\n",
       " SeqRecord(seq=Seq('agcttaagtcaactttttcatttctactgtgaaggaaccaatgattttcttatt...aga'), id='OX291653.1:3336538-3338898', name='OX291653.1:3336538-3338898', description='OX291653.1:3336538-3338898 Arabidopsis thaliana genome assembly, chromosome: 5', dbxrefs=[]),\n",
       " SeqRecord(seq=Seq('agcttaagtcaactttttcatttctactgtgaaggaaccaatgattttcttatt...aga'), id='OX291631.1:3341299-3343659', name='OX291631.1:3341299-3343659', description='OX291631.1:3341299-3343659 Arabidopsis thaliana genome assembly, chromosome: 5', dbxrefs=[]),\n",
       " SeqRecord(seq=Seq('agcttaagtcaactttttcatttctactgtgaaggaaccaatgattttcttatt...aga'), id='OX291626.1:3319055-3321415', name='OX291626.1:3319055-3321415', description='OX291626.1:3319055-3321415 Arabidopsis thaliana genome assembly, chromosome: 5', dbxrefs=[]),\n",
       " SeqRecord(seq=Seq('agcttaagtcaactttttcatttctactgtgaaggaaccaatgattttcttatt...aga'), id='OX291604.1:3341690-3344050', name='OX291604.1:3341690-3344050', description='OX291604.1:3341690-3344050 Arabidopsis thaliana genome assembly, chromosome: 5', dbxrefs=[]),\n",
       " SeqRecord(seq=Seq('agcttaagtcaactttttcatttctactgtgaaggaaccaatgattttcttatt...aga'), id='OX291594.1:3296178-3298538', name='OX291594.1:3296178-3298538', description='OX291594.1:3296178-3298538 Arabidopsis thaliana genome assembly, chromosome: 5', dbxrefs=[]),\n",
       " SeqRecord(seq=Seq('agcttaagtcaactttttcatttctactgtgaaggaaccaatgattttcttatt...aga'), id='OX291580.1:3327136-3329496', name='OX291580.1:3327136-3329496', description='OX291580.1:3327136-3329496 Arabidopsis thaliana genome assembly, chromosome: 5', dbxrefs=[]),\n",
       " SeqRecord(seq=Seq('agcttaagtcaactttttcatttctactgagaaggaaccaatgattttcttatt...aga'), id='OX291485.1:3294184-3296543', name='OX291485.1:3294184-3296543', description='OX291485.1:3294184-3296543 Arabidopsis thaliana genome assembly, chromosome: 5', dbxrefs=[]),\n",
       " SeqRecord(seq=Seq('agcttaagtcaactttttcatttctactgtgaaggaaccaatgattttcttatt...aga'), id='OX291459.1:3343583-3345943', name='OX291459.1:3343583-3345943', description='OX291459.1:3343583-3345943 Arabidopsis thaliana genome assembly, chromosome: 5', dbxrefs=[]),\n",
       " SeqRecord(seq=Seq('agcttaagtcaactttttcatttctactgtgaaggaaccaatgattttcttatt...aga'), id='OX291454.1:3336337-3338697', name='OX291454.1:3336337-3338697', description='OX291454.1:3336337-3338697 Arabidopsis thaliana genome assembly, chromosome: 5', dbxrefs=[]),\n",
       " SeqRecord(seq=Seq('agcttaagtcaactttttcatttctactgtgaaggaaccaatgattttcttatt...aga'), id='OX291440.1:3310859-3313219', name='OX291440.1:3310859-3313219', description='OX291440.1:3310859-3313219 Arabidopsis thaliana genome assembly, chromosome: 5', dbxrefs=[]),\n",
       " SeqRecord(seq=Seq('agcttaagtcaactttttcatttctactgtgaaggaaccaatgattttcttatt...aga'), id='CP086753.1:3286956-3289316', name='CP086753.1:3286956-3289316', description='CP086753.1:3286956-3289316 Arabidopsis thaliana ecotype 5856 chromosome 5 sequence', dbxrefs=[]),\n",
       " SeqRecord(seq=Seq('agcttaaatcaactttttcatttctactgagaaggaaccaatgattttcttatt...aga'), id='LR797791.1:3304399-3306765', name='LR797791.1:3304399-3306765', description='LR797791.1:3304399-3306765 Arabidopsis thaliana genome assembly, chromosome: 5', dbxrefs=[]),\n",
       " SeqRecord(seq=Seq('agcttaagtcaactttttcatttctactgagaaggaaccaatgattttcttatt...aga'), id='OX291670.1:3341369-3343726', name='OX291670.1:3341369-3343726', description='OX291670.1:3341369-3343726 Arabidopsis thaliana genome assembly, chromosome: 5', dbxrefs=[]),\n",
       " SeqRecord(seq=Seq('agcttaagtcaactttttcatttctactgtgaaggaaccaatgattttcttatt...aga'), id='LR699769.1:3326764-3329123', name='LR699769.1:3326764-3329123', description='LR699769.1:3326764-3329123 Arabidopsis thaliana genome assembly, chromosome: 5', dbxrefs=[]),\n",
       " SeqRecord(seq=Seq('agcttacgtcaactttttcatttctactgagaaggaaccaatgattttcttatt...aga'), id='OX291809.1:3324391-3326751', name='OX291809.1:3324391-3326751', description='OX291809.1:3324391-3326751 Arabidopsis thaliana genome assembly, chromosome: 5', dbxrefs=[]),\n",
       " SeqRecord(seq=Seq('agcttaagtcaactttttcatttctactgtgaaggaaccaatgattttcttatt...aga'), id='OX291713.1:3340292-3342651', name='OX291713.1:3340292-3342651', description='OX291713.1:3340292-3342651 Arabidopsis thaliana genome assembly, chromosome: 5', dbxrefs=[]),\n",
       " SeqRecord(seq=Seq('agcttaagtcaactttttcatttctactgtgaaggaaccaatgattttcttatt...aga'), id='OX291464.1:3300839-3303198', name='OX291464.1:3300839-3303198', description='OX291464.1:3300839-3303198 Arabidopsis thaliana genome assembly, chromosome: 5', dbxrefs=[]),\n",
       " SeqRecord(seq=Seq('agcttaagtcaactttttcatttctactgtgaaggaaccaatgattttcttatt...aga'), id='LR797806.1:3325548-3327907', name='LR797806.1:3325548-3327907', description='LR797806.1:3325548-3327907 Arabidopsis thaliana genome assembly, chromosome: 5', dbxrefs=[]),\n",
       " SeqRecord(seq=Seq('agcttaagtcaactttttcatttctactgagaaggaaccaatgattttcttatt...aga'), id='OX291795.1:3338633-3340991', name='OX291795.1:3338633-3340991', description='OX291795.1:3338633-3340991 Arabidopsis thaliana genome assembly, chromosome: 5', dbxrefs=[]),\n",
       " SeqRecord(seq=Seq('agcttaagtcaactttttcatttctactgagaaggaaccaatgattttcttatt...aga'), id='OX291770.1:3366110-3368468', name='OX291770.1:3366110-3368468', description='OX291770.1:3366110-3368468 Arabidopsis thaliana genome assembly, chromosome: 5', dbxrefs=[]),\n",
       " SeqRecord(seq=Seq('agcttaagtcaactttttcatttctactgagaaggaaccaatgattttcttatt...aga'), id='OX291718.1:3337197-3339555', name='OX291718.1:3337197-3339555', description='OX291718.1:3337197-3339555 Arabidopsis thaliana genome assembly, chromosome: 5', dbxrefs=[]),\n",
       " SeqRecord(seq=Seq('agcttaagtcaactttttcatttctactgagaaggaaccaatgattttcttatt...aga'), id='OX291517.1:3318485-3320843', name='OX291517.1:3318485-3320843', description='OX291517.1:3318485-3320843 Arabidopsis thaliana genome assembly, chromosome: 5', dbxrefs=[]),\n",
       " SeqRecord(seq=Seq('agcttaagtcaactttttcatttctactgagaaggaaccaatgattttcttatt...aga'), id='OX291490.1:3327873-3330231', name='OX291490.1:3327873-3330231', description='OX291490.1:3327873-3330231 Arabidopsis thaliana genome assembly, chromosome: 5', dbxrefs=[]),\n",
       " SeqRecord(seq=Seq('agcttaagtcaactttttcatttctactgtgaaggaaccaatgattttcttatt...aga'), id='CP086738.1:3309018-3311378', name='CP086738.1:3309018-3311378', description='CP086738.1:3309018-3311378 Arabidopsis thaliana ecotype 9412 chromosome 5 sequence', dbxrefs=[]),\n",
       " SeqRecord(seq=Seq('agcttaagtcaactttttcatttctactgagaaggaaccaatgattttcttatt...aga'), id='OX291785.1:3369472-3371830', name='OX291785.1:3369472-3371830', description='OX291785.1:3369472-3371830 Arabidopsis thaliana genome assembly, chromosome: 5', dbxrefs=[]),\n",
       " SeqRecord(seq=Seq('agcttaagtcaactttttcatttctactgagaaggaaccaatgattttcttatt...aga'), id='OX291754.1:3346316-3348674', name='OX291754.1:3346316-3348674', description='OX291754.1:3346316-3348674 Arabidopsis thaliana genome assembly, chromosome: 5', dbxrefs=[]),\n",
       " SeqRecord(seq=Seq('agcttaagtcaacttcttcatttctactgagaaggaaccaatgattttcttatt...aga'), id='OX291704.1:3371657-3374015', name='OX291704.1:3371657-3374015', description='OX291704.1:3371657-3374015 Arabidopsis thaliana genome assembly, chromosome: 5', dbxrefs=[]),\n",
       " SeqRecord(seq=Seq('agcttaagtcaactttttcatttctactgagaaggaaccaatgattttcttatt...aga'), id='OX291621.1:3342810-3345168', name='OX291621.1:3342810-3345168', description='OX291621.1:3342810-3345168 Arabidopsis thaliana genome assembly, chromosome: 5', dbxrefs=[]),\n",
       " SeqRecord(seq=Seq('agcttaagtcaactttttcatttctactgagaaggaaccaatgattttcttatt...aga'), id='OX291585.1:3312069-3314427', name='OX291585.1:3312069-3314427', description='OX291585.1:3312069-3314427 Arabidopsis thaliana genome assembly, chromosome: 5', dbxrefs=[]),\n",
       " SeqRecord(seq=Seq('agcttaagtcaactttttcatttctactgagaaggaaccaatgattttcttatt...aga'), id='OX291527.1:3301363-3303721', name='OX291527.1:3301363-3303721', description='OX291527.1:3301363-3303721 Arabidopsis thaliana genome assembly, chromosome: 5', dbxrefs=[]),\n",
       " SeqRecord(seq=Seq('agcttaagtcaactttttcatttctactgtgaaggaaccaatgattttcttatt...aga'), id='LR699759.1:3296677-3299037', name='LR699759.1:3296677-3299037', description='LR699759.1:3296677-3299037 Arabidopsis thaliana genome assembly, chromosome: 5', dbxrefs=[]),\n",
       " SeqRecord(seq=Seq('agcttaagtcaactttttcatttctactgtgaaggaaccaatgattttcttatt...aga'), id='LR699754.1:3316260-3318620', name='LR699754.1:3316260-3318620', description='LR699754.1:3316260-3318620 Arabidopsis thaliana genome assembly, chromosome: 5', dbxrefs=[]),\n",
       " SeqRecord(seq=Seq('agcttaagtcaactttttcatttctactgtgaaggaaccaatgattttcttatt...aga'), id='OX291681.1:3307678-3310037', name='OX291681.1:3307678-3310037', description='OX291681.1:3307678-3310037 Arabidopsis thaliana genome assembly, chromosome: 5', dbxrefs=[]),\n",
       " SeqRecord(seq=Seq('agcttaagtcaactttttcatttctactgtgaaggaaccaatgattttcttatt...aga'), id='OX291609.1:3307861-3310220', name='OX291609.1:3307861-3310220', description='OX291609.1:3307861-3310220 Arabidopsis thaliana genome assembly, chromosome: 5', dbxrefs=[]),\n",
       " SeqRecord(seq=Seq('agcttaagtcaactttttcatttctactgtgaaggaaccaatgattttcttatt...aga'), id='OX291570.1:3322501-3324861', name='OX291570.1:3322501-3324861', description='OX291570.1:3322501-3324861 Arabidopsis thaliana genome assembly, chromosome: 5', dbxrefs=[]),\n",
       " SeqRecord(seq=Seq('agcttaagtcaactttttcatttctactgtgaaggaaccaatgattttcttatt...aga'), id='OX291512.1:3297597-3299957', name='OX291512.1:3297597-3299957', description='OX291512.1:3297597-3299957 Arabidopsis thaliana genome assembly, chromosome: 5', dbxrefs=[]),\n",
       " SeqRecord(seq=Seq('agcttaagtcaactttttcatttctactgtgaaggaaccaatgattttcttatt...aga'), id='CP086743.1:3299200-3301560', name='CP086743.1:3299200-3301560', description='CP086743.1:3299200-3301560 Arabidopsis thaliana ecotype 6024 chromosome 5 sequence', dbxrefs=[]),\n",
       " SeqRecord(seq=Seq('agcttaagtcaactttttcatttctactgtgaaggaaccaatgattttcttatt...aga'), id='LR797811.1:3312703-3315063', name='LR797811.1:3312703-3315063', description='LR797811.1:3312703-3315063 Arabidopsis thaliana genome assembly, chromosome: 5', dbxrefs=[]),\n",
       " SeqRecord(seq=Seq('agcttaagtcaactttttcatttctactgtgaaggaaccaatgattttcttatt...aga'), id='LR797801.1:3336214-3338573', name='LR797801.1:3336214-3338573', description='LR797801.1:3336214-3338573 Arabidopsis thaliana genome assembly, chromosome: 5', dbxrefs=[]),\n",
       " SeqRecord(seq=Seq('agcttaagtcaactttttcatttctactgagaaggaaccaacgattttcttatt...aga'), id='OX291469.1:3346811-3349168', name='OX291469.1:3346811-3349168', description='OX291469.1:3346811-3349168 Arabidopsis thaliana genome assembly, chromosome: 5', dbxrefs=[]),\n",
       " SeqRecord(seq=Seq('agcttaagtcaactttttcatttctactgagaaggaaccaatgattttcttatt...aga'), id='CP086758.1:3302941-3305302', name='CP086758.1:3302941-3305302', description='CP086758.1:3302941-3305302 Arabidopsis thaliana ecotype 1254 chromosome 5 sequence', dbxrefs=[])]"
      ]
     },
     "execution_count": 9,
     "metadata": {},
     "output_type": "execute_result"
    }
   ],
   "source": [
    "fasta"
   ]
  },
  {
   "cell_type": "code",
   "execution_count": 10,
   "id": "9fbb6b4a-38f3-483f-bfdd-615d5d7a8c46",
   "metadata": {},
   "outputs": [
    {
     "name": "stdout",
     "output_type": "stream",
     "text": [
      "LR215056.1:3313175-3315536\n",
      "OX291575.1:3316721-3319082\n",
      "CP086748.1:3300545-3302906\n",
      "CP086733.1:3302416-3304777\n",
      "LR797796.1:3317662-3320023\n",
      "OX291686.1:3337551-3339911\n",
      "OX291522.1:3342074-3344434\n",
      "OX291804.1:3343745-3346106\n",
      "OX291759.1:3322924-3325283\n",
      "OX291699.1:3332675-3335034\n",
      "OX291599.1:3294901-3297260\n",
      "OW119600.1:3318222-3320581\n",
      "LR881470.1:3325338-3327697\n",
      "LR699749.2:3295135-3297495\n",
      "LR699764.1:3302269-3304635\n",
      "OX291814.1:3319491-3321851\n",
      "OX291790.1:3344793-3347153\n",
      "OX291779.1:3306597-3308963\n",
      "OX291764.1:3339042-3341402\n",
      "OX291745.1:3307809-3310169\n",
      "OX291739.1:3334666-3337026\n",
      "OX291734.1:3340251-3342611\n",
      "OX291675.1:3319632-3321992\n",
      "OX291653.1:3336538-3338898\n",
      "OX291631.1:3341299-3343659\n",
      "OX291626.1:3319055-3321415\n",
      "OX291604.1:3341690-3344050\n",
      "OX291594.1:3296178-3298538\n",
      "OX291580.1:3327136-3329496\n",
      "OX291485.1:3294184-3296543\n",
      "OX291459.1:3343583-3345943\n",
      "OX291454.1:3336337-3338697\n",
      "OX291440.1:3310859-3313219\n",
      "CP086753.1:3286956-3289316\n",
      "LR797791.1:3304399-3306765\n",
      "OX291670.1:3341369-3343726\n",
      "LR699769.1:3326764-3329123\n",
      "OX291809.1:3324391-3326751\n",
      "OX291713.1:3340292-3342651\n",
      "OX291464.1:3300839-3303198\n",
      "LR797806.1:3325548-3327907\n",
      "OX291795.1:3338633-3340991\n",
      "OX291770.1:3366110-3368468\n",
      "OX291718.1:3337197-3339555\n",
      "OX291517.1:3318485-3320843\n",
      "OX291490.1:3327873-3330231\n",
      "CP086738.1:3309018-3311378\n",
      "OX291785.1:3369472-3371830\n",
      "OX291754.1:3346316-3348674\n",
      "OX291704.1:3371657-3374015\n",
      "OX291621.1:3342810-3345168\n",
      "OX291585.1:3312069-3314427\n",
      "OX291527.1:3301363-3303721\n",
      "LR699759.1:3296677-3299037\n",
      "LR699754.1:3316260-3318620\n",
      "OX291681.1:3307678-3310037\n",
      "OX291609.1:3307861-3310220\n",
      "OX291570.1:3322501-3324861\n",
      "OX291512.1:3297597-3299957\n",
      "CP086743.1:3299200-3301560\n",
      "LR797811.1:3312703-3315063\n",
      "LR797801.1:3336214-3338573\n",
      "OX291469.1:3346811-3349168\n",
      "CP086758.1:3302941-3305302\n"
     ]
    }
   ],
   "source": [
    "for entry in fasta:\n",
    "    print(entry.id)"
   ]
  },
  {
   "cell_type": "code",
   "execution_count": 11,
   "id": "40f5658f-fca8-4808-993d-e21fdf79fd42",
   "metadata": {},
   "outputs": [],
   "source": [
    "seqs={}\n",
    "for entry in fasta:\n",
    "    seqs[entry.id]=entry"
   ]
  },
  {
   "cell_type": "code",
   "execution_count": 12,
   "id": "86cc28f7-61fd-4b04-a169-cc12bf35871c",
   "metadata": {},
   "outputs": [
    {
     "name": "stdout",
     "output_type": "stream",
     "text": [
      "2371\n",
      "2371\n",
      "2371\n",
      "2371\n",
      "2371\n",
      "2371\n",
      "2371\n",
      "2371\n",
      "2371\n",
      "2371\n",
      "2371\n",
      "2371\n",
      "2371\n",
      "2371\n",
      "2371\n",
      "2371\n",
      "2371\n",
      "2371\n",
      "2371\n",
      "2371\n",
      "2371\n",
      "2371\n",
      "2371\n",
      "2371\n",
      "2371\n",
      "2371\n",
      "2371\n",
      "2371\n",
      "2371\n",
      "2371\n",
      "2371\n",
      "2371\n",
      "2371\n",
      "2371\n",
      "2371\n",
      "2371\n",
      "2371\n",
      "2371\n",
      "2371\n",
      "2371\n",
      "2371\n",
      "2371\n",
      "2371\n",
      "2371\n",
      "2371\n",
      "2371\n",
      "2371\n",
      "2371\n",
      "2371\n",
      "2371\n",
      "2371\n",
      "2371\n",
      "2371\n",
      "2371\n",
      "2371\n",
      "2371\n",
      "2371\n",
      "2371\n",
      "2371\n",
      "2371\n",
      "2371\n",
      "2371\n",
      "2371\n",
      "2371\n"
     ]
    }
   ],
   "source": [
    "for entry in fasta:\n",
    "    print(len(entry.seq))"
   ]
  },
  {
   "cell_type": "code",
   "execution_count": 19,
   "id": "f6fac607-f6f7-48b8-8521-1de919a2732c",
   "metadata": {},
   "outputs": [
    {
     "data": {
      "text/plain": [
       "SeqRecord(seq=Seq('agcttaagtcaactttttcatttctactgagaaggaaccaatgattttcttatt...aga'), id='CP086758.1:3302941-3305302', name='CP086758.1:3302941-3305302', description='CP086758.1:3302941-3305302 Arabidopsis thaliana ecotype 1254 chromosome 5 sequence', dbxrefs=[])"
      ]
     },
     "execution_count": 19,
     "metadata": {},
     "output_type": "execute_result"
    }
   ],
   "source": [
    "seqs['CP086758.1:3302941-3305302']"
   ]
  },
  {
   "cell_type": "code",
   "execution_count": 20,
   "id": "28e158e5-88b5-4c2d-9b7b-58b816d952bd",
   "metadata": {},
   "outputs": [
    {
     "data": {
      "text/plain": [
       "Seq('agcttaagtcaactttttcatttctactgagaaggaaccaatgattttcttatt...aga')"
      ]
     },
     "execution_count": 20,
     "metadata": {},
     "output_type": "execute_result"
    }
   ],
   "source": [
    "seqs['CP086758.1:3302941-3305302'].seq"
   ]
  },
  {
   "cell_type": "code",
   "execution_count": 21,
   "id": "32d315d8-9351-406f-98eb-932b1b041b40",
   "metadata": {},
   "outputs": [
    {
     "data": {
      "text/plain": [
       "'agcttaagtcaactttttcatttctactgagaaggaaccaatgattttcttattaatttagaaaccacattacacttaatagtatcctgctgcatgtaagttcaagtaatcgccgaggaagtaaaagctcaaacaagctaaacaaaagacaagttgtagtagtagac---tagtagtacatgaacgaacaagacaagaggagaaaacagttgatgagctttttcgtctctttctaaatcttttcttttattccctcttggatttggagagagctctctttcgctgaccaagcatgtacctgtacatgtgtgggctacctgcaacagccaaatacaaatttagtctcgcagatcagaattgaacagatgtatgggatatgttataagaaaggttgactgagtttgtgcctgggacatagattgcaaggacgagtatcgttgcatagaagaagtcgaatgagaagttcaatatgttaggcatcctaacgctgtacatctccgatgtctgcagacaaaagaaaga-aaaaaaaaagaccaaaagggaccattcaggaatcaaccatatatatactctcccctgataccagtggaacagaaaatctgaaactttatagatggcattaaagttaagtctatatatggattattttacagtgacgtcttgaaagtcaacaaacagatcctgtctactagagtctgagggaaatggctttaacacttcatgtctactctaagagctctaaattctaatacacaaaagggtgtaacaacccgtaaagaaatgatattgtaaaggaaagaattgttctctgtttaaggaattgacatgagccagttgtgttaccttgatgtgtggtaaggcaaggtagataagaccaacttcgctggtgataccggtagggtatagcaataaaaagctgctgtatctgaacagattaacgagagagaaagaaatgagattagagttgcaaattaatctgtttttcaatgtctattattatattgcacatgaatggcatacctgagccacaagtgccatgaaggtgcaaagcctagagcttccttaaagccgaagaaggagtagcgaataatctgcgctcagagcgagttattcatcaaacatatgaactgaagcacgttatcctaaaaggacgctactaggataagacttcaaccaaaatggagtaattaaggagtcatacttaagtcaaatcttgactgttcg-aaatattaacagctaatctcttgttctgtacttcaacaatccatgttgtgataggaaactttcaaagcatcagtaagagaagcaatgttttagacatttcagatttatggcatacaacgaatctaataaatgtctccttgtaagagcgatatcaatggctaccaaaatcaacacagagactagatataatcacctctgtgatagaccagcttatgaccagcgacgtaacaagaaaatgagatcggacctgaaattaaatgaaacaaagttcaacaatcaaatgatgaaacttgcaacaatcaaagagaaataatgaactagtaatgctggtaactttctaagttaacctctggaaaactgtataggatgccccaagtgagaaatagccttgaacctatctgtggcagagttgcagaaacaggagatctgaccaaacctattcgagtttagcaacacagcagaacacaactcagtcaatgatcttaaaaagagtttaatcaaaatggtgtagtgcaagttcgaaattagtctaatggatcagatcactcacctactaatccatgaagaatctgctccacacccggaaaattccaaaatccagattttaatcagaggaaag-aaaaaaaaaacaaatactcagttgcaacaagtgtgaaccaaatcattcttcttcttctctaattacccgggaaatgcaacaaaacaagaagaaataaaacacgaattgtgtcatgagagacggacctcgagaacggcggcagtctgagcaagctggagaggcttctcaatggcgtcatagacattctcataacccgtttccttcaacgtcgttatcgctaagtacaaaacctgagccctaataccccaaatgtcaccaaaattcaaaaatcaatccgagagaaaaataaaaactccactagacaaaagaagaaagagaatcgagctcgacttgccatccagcaaagacgatccaattgtagagagtgaggtacacgcgccggacaacggagagaaagcccgccatggaaagtgactacgcgagaacgactaattctttgaataccc---agaagaagaaagagtagagtttatggcggagagatcggaggagaggagcatttatgaattacatcatgactagaga'"
      ]
     },
     "execution_count": 21,
     "metadata": {},
     "output_type": "execute_result"
    }
   ],
   "source": [
    "str (seqs['CP086758.1:3302941-3305302'].seq)"
   ]
  },
  {
   "cell_type": "code",
   "execution_count": 22,
   "id": "f015e25f-8390-4b77-82e1-52506faef122",
   "metadata": {},
   "outputs": [
    {
     "ename": "KeyError",
     "evalue": "'LR782542.1:14166028-14167633'",
     "output_type": "error",
     "traceback": [
      "\u001b[0;31m---------------------------------------------------------------------------\u001b[0m",
      "\u001b[0;31mKeyError\u001b[0m                                  Traceback (most recent call last)",
      "\u001b[0;32m/tmp/ipykernel_108/2175735914.py\u001b[0m in \u001b[0;36m<module>\u001b[0;34m\u001b[0m\n\u001b[0;32m----> 1\u001b[0;31m \u001b[0mseqs\u001b[0m\u001b[0;34m[\u001b[0m\u001b[0;34m'LR782542.1:14166028-14167633'\u001b[0m\u001b[0;34m]\u001b[0m\u001b[0;34m\u001b[0m\u001b[0;34m\u001b[0m\u001b[0m\n\u001b[0m",
      "\u001b[0;31mKeyError\u001b[0m: 'LR782542.1:14166028-14167633'"
     ]
    }
   ],
   "source": [
    "seqs['LR782542.1:14166028-14167633']"
   ]
  },
  {
   "cell_type": "code",
   "execution_count": 22,
   "id": "91bf2d0e-0840-41ee-81f4-06b2bfa0a53b",
   "metadata": {},
   "outputs": [
    {
     "data": {
      "text/plain": [
       "'-------------------------------tctgcagt-aaaaaattcattagcaaactctctttaatta--------------------------------aatatcaaaatatgttttttaatgtaaaaatattaattaatatcttaaactttgtctttttagtgaaatatcttatatattataacagaagaagtatatatatatatatatatataaaaaaaataaagatgtatattggttacccaaaattagaagttcacaagaaaatcaatattcaatatttactcaat------gaaattttcaacaaaaaaaagtcttaaataaagaaagatttacccactgaatctgctgaacccgtggctccgtcggttttgattagtcaccgccattctttccgaagaaaaacaataataacagtaatactaatatataggtggctgtaatgttgcatcttgatcaaaaagagaaataattttgtagttattt----taaggaaaaagatgaacgtgatcattttccatcattcag--tttttttttttttttcattttccaacattcatacataggtattttaaacttttagatgattcaaggaactattt------------taggttataataatgtat-acaaaaaattagattactcaataattaatatctcatcaatattgctgaaaatcacat----ctgttaattttatcaaaaaaaaatattactaa-----aaaacagtttaataagaaaatattactgaaaataacgtttaataagaaaataaatattgtatgattattagattttttctgataatatgtttaattgatttatcaaatctcaagaataaaaggaacgttgttcctatgtttaactgaaggatataagaacattgataaacttctaaactagaaccaggggtaaaaggattatcaaatctc---------------aataataaaaggaacgttcttcctatgttaacacattgataattc--tttaatttactggtaaaaaatatacggtttacaaa--atatatatatatatatatatatatatatatatatatatatatatatatacggttttaatagttaccgatcacaaaaactattaaaattaatagtatgaaaatattatcaccacgatttttgtattactaattttattgctcttaattattttgtcatcttttatcgttatttttccattaaaaataaatacggctttgtgtcacgaataag-----aaaacatattttttagtaaaacaaattcgactaaaataaaaagg-aaaatgtt-----ttgatcacatttttatattgtattacaggaaataacca---------------------------------atgatagataataatatatta-ttcaattgtcatcatttcttagttgacaaaaaaaaatctatacatgtttccgagacgttaaaagtatttacaaaactac---tccaac-aattca------------------------------catttgttttataacaaatagggacaaaaatgatca-----------------ttttaagcttattgaataactatgatcgtttatttttgtcaaacaaatggatggtttatttaattaagtcaagtcataagaaaaaattaatagtaagtgtgtaagaaaaaaattaaaaagtc-acaaatggtcccatac------gtgtgattcggcacgatacttcctaaaagcataccactaggctctctcctatataacttcatctccaccaacgatgcattttcgtc'"
      ]
     },
     "execution_count": 22,
     "metadata": {},
     "output_type": "execute_result"
    }
   ],
   "source": [
    "str (seqs['LR782542.1:14166028-14167633'].seq)"
   ]
  },
  {
   "cell_type": "code",
   "execution_count": null,
   "id": "6c408e20-6234-4579-9ae7-35ba8e181107",
   "metadata": {},
   "outputs": [],
   "source": []
  }
 ],
 "metadata": {
  "kernelspec": {
   "display_name": "Python 3 (ipykernel)",
   "language": "python",
   "name": "python3"
  },
  "language_info": {
   "codemirror_mode": {
    "name": "ipython",
    "version": 3
   },
   "file_extension": ".py",
   "mimetype": "text/x-python",
   "name": "python",
   "nbconvert_exporter": "python",
   "pygments_lexer": "ipython3",
   "version": "3.7.12"
  }
 },
 "nbformat": 4,
 "nbformat_minor": 5
}
