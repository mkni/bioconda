{
 "cells": [
  {
   "cell_type": "code",
   "execution_count": 1,
   "id": "a0e29c05",
   "metadata": {},
   "outputs": [
    {
     "name": "stdout",
     "output_type": "stream",
     "text": [
      "ACGGGTGGAU-\n",
      "||     | | \n",
      "AC-----G-UA\n",
      "  Score=4\n",
      "\n",
      "ACGGGTGGAU-\n",
      "||    |  | \n",
      "AC----G--UA\n",
      "  Score=4\n",
      "\n",
      "ACGGGTGGAU-\n",
      "||  |    | \n",
      "AC--G----UA\n",
      "  Score=4\n",
      "\n",
      "ACGGGTGGAU-\n",
      "|| |     | \n",
      "AC-G-----UA\n",
      "  Score=4\n",
      "\n",
      "ACGGGTGGAU-\n",
      "|||      | \n",
      "ACG------UA\n",
      "  Score=4\n",
      "\n",
      "ACGGGTGG-AU\n",
      "||     | | \n",
      "AC-----GUA-\n",
      "  Score=4\n",
      "\n",
      "ACGGGTGG-AU\n",
      "||    |  | \n",
      "AC----G-UA-\n",
      "  Score=4\n",
      "\n",
      "ACGGGTGG-AU\n",
      "||  |    | \n",
      "AC--G---UA-\n",
      "  Score=4\n",
      "\n",
      "ACGGGTGG-AU\n",
      "|| |     | \n",
      "AC-G----UA-\n",
      "  Score=4\n",
      "\n",
      "ACGGGTGG-AU\n",
      "|||      | \n",
      "ACG-----UA-\n",
      "  Score=4\n",
      "\n",
      "ACGGGTGGAU\n",
      "||    |.| \n",
      "AC----GUA-\n",
      "  Score=4\n",
      "\n",
      "ACGGGTGGAU\n",
      "||  |  .| \n",
      "AC--G--UA-\n",
      "  Score=4\n",
      "\n",
      "ACGGGTGGAU\n",
      "|| |   .| \n",
      "AC-G---UA-\n",
      "  Score=4\n",
      "\n",
      "ACGGGTGGAU\n",
      "|||    .| \n",
      "ACG----UA-\n",
      "  Score=4\n",
      "\n",
      "ACGGGTGGAU\n",
      "||  | . | \n",
      "AC--G-U-A-\n",
      "  Score=4\n",
      "\n",
      "ACGGGTGGAU\n",
      "|| |  . | \n",
      "AC-G--U-A-\n",
      "  Score=4\n",
      "\n",
      "ACGGGTGGAU\n",
      "|||   . | \n",
      "ACG---U-A-\n",
      "  Score=4\n",
      "\n",
      "ACGGGTGGAU\n",
      "||  |.  | \n",
      "AC--GU--A-\n",
      "  Score=4\n",
      "\n",
      "ACGGGTGGAU\n",
      "|| | .  | \n",
      "AC-G-U--A-\n",
      "  Score=4\n",
      "\n",
      "ACGGGTGGAU\n",
      "|||  .  | \n",
      "ACG--U--A-\n",
      "  Score=4\n",
      "\n",
      "ACGGGTGGAU\n",
      "|| |.   | \n",
      "AC-GU---A-\n",
      "  Score=4\n",
      "\n",
      "ACGGGTGGAU\n",
      "||| .   | \n",
      "ACG-U---A-\n",
      "  Score=4\n",
      "\n",
      "ACGGGTGGAU\n",
      "|||.    | \n",
      "ACGU----A-\n",
      "  Score=4\n",
      "\n"
     ]
    },
    {
     "name": "stderr",
     "output_type": "stream",
     "text": [
      "/home/rafael/Python/biopython/lib/python3.9/site-packages/Bio/pairwise2.py:278: BiopythonDeprecationWarning: Bio.pairwise2 has been deprecated, and we intend to remove it in a future release of Biopython. As an alternative, please consider using Bio.Align.PairwiseAligner as a replacement, and contact the Biopython developers if you still need the Bio.pairwise2 module.\n",
      "  warnings.warn(\n"
     ]
    }
   ],
   "source": [
    "# Import pairwise2 module\n",
    "from Bio import pairwise2 \n",
    "\n",
    "# Import format_alignment method\n",
    "from Bio.pairwise2 import format_alignment\n",
    "\n",
    "# Define two sequences to be aligned\n",
    "X = \"ACGGGTGGAU\"\n",
    "Y = \"ACGUA\"\n",
    "\n",
    "# Get a list of the global alignments between the two sequences ACGGGT and ACG\n",
    "# No parameters. Identical characters have score of 1, else 0.\n",
    "# No gap penalties.\n",
    "alignments = pairwise2.align.globalxx(X, Y)\n",
    "\n",
    "# Use format_alignment method to format the alignments in the list\n",
    "for a in alignments:\n",
    "    print(format_alignment(*a))"
   ]
  },
  {
   "cell_type": "code",
   "execution_count": 2,
   "id": "d3bc9988",
   "metadata": {},
   "outputs": [],
   "source": [
    "N = 1000000\n",
    "dna = 'A'*N"
   ]
  },
  {
   "cell_type": "code",
   "execution_count": 3,
   "id": "09b7736f",
   "metadata": {},
   "outputs": [],
   "source": [
    "#generar cadenas de DNA de manera aleatoria\n",
    "import random \n",
    "alphabet = list('ATGC')\n",
    "dna = [random.choice(alphabet) for i in range(N)]\n",
    "dna = ''.join(dna)  # juntar los elementos en la cadena \n"
   ]
  },
  {
   "cell_type": "code",
   "execution_count": 4,
   "id": "dd41daec",
   "metadata": {},
   "outputs": [],
   "source": [
    "import random\n",
    "def generate_string(N, alphabet='ACGT'):\n",
    "    return ''.join([random.choice(alphabet) for i in range(N)])\n",
    "dna = generate_string(600000)\n"
   ]
  },
  {
   "cell_type": "code",
   "execution_count": 5,
   "id": "67dbd19c",
   "metadata": {},
   "outputs": [
    {
     "name": "stdout",
     "output_type": "stream",
     "text": [
      "AAGAGCTCG-TT-CAACTAAT-T\n",
      "      | | || |  |     |\n",
      "------T-GGTTGC--C----GT\n",
      "  Score=7\n",
      "\n",
      "AAGAGCTC-GTT-CAACTAAT-T\n",
      "      |  ||| |  |     |\n",
      "------T-GGTTGC--C----GT\n",
      "  Score=7\n",
      "\n",
      "AAGAGCTCGTT-CAACTAAT-T\n",
      "      |.||| |  |     |\n",
      "------TGGTTGC--C----GT\n",
      "  Score=7\n",
      "\n",
      "AAGA-GCTCGTT-CAACTAAT-T\n",
      "     |   ||| |  |     |\n",
      "----TG---GTTGC--C----GT\n",
      "  Score=7\n",
      "\n",
      "AAGAGCTCGTT-CAACTAAT-T\n",
      "   .|   ||| |  |     |\n",
      "---TG---GTTGC--C----GT\n",
      "  Score=7\n",
      "\n",
      "AAGAGCTCGTT-CAACTAAT-T\n",
      "  . |   ||| |  |     |\n",
      "--T-G---GTTGC--C----GT\n",
      "  Score=7\n",
      "\n",
      "AAGAGCTCGTT-CAACTAAT-T\n",
      " .  |   ||| |  |     |\n",
      "-T--G---GTTGC--C----GT\n",
      "  Score=7\n",
      "\n",
      "AAGAGCTCGTT-CAACTAAT-T\n",
      ".   |   ||| |  |     |\n",
      "T---G---GTTGC--C----GT\n",
      "  Score=7\n",
      "\n",
      "AA-GAGCTCGTT-CAACTAAT-T\n",
      "   |     ||| |  |     |\n",
      "--TG-----GTTGC--C----GT\n",
      "  Score=7\n",
      "\n",
      "AAGAGCTCGTT-CAACTAAT-T\n",
      " .|     ||| |  |     |\n",
      "-TG-----GTTGC--C----GT\n",
      "  Score=7\n",
      "\n",
      "AAGAGCTCGTT-CAACTAAT-T\n",
      ". |     ||| |  |     |\n",
      "T-G-----GTTGC--C----GT\n",
      "  Score=7\n",
      "\n",
      "AA-GAGCTCGTT-CAACTAAT-T\n",
      "   | |    || |  |     |\n",
      "--TG-G----TTGC--C----GT\n",
      "  Score=7\n",
      "\n",
      "AAGAGCTCGTT-CAACTAAT-T\n",
      " .| |    || |  |     |\n",
      "-TG-G----TTGC--C----GT\n",
      "  Score=7\n",
      "\n",
      "AAGAGCTCGTT-CAACTAAT-T\n",
      ". | |    || |  |     |\n",
      "T-G-G----TTGC--C----GT\n",
      "  Score=7\n",
      "\n",
      "AA-GAGCTCGTT-CAACTAAT-T\n",
      "   | | |   | |  |     |\n",
      "--TG-G-T---TGC--C----GT\n",
      "  Score=7\n",
      "\n",
      "AAGAGCTCGTT-CAACTAAT-T\n",
      " .| | |   | |  |     |\n",
      "-TG-G-T---TGC--C----GT\n",
      "  Score=7\n",
      "\n",
      "AAGAGCTCGTT-CAACTAAT-T\n",
      ". | | |   | |  |     |\n",
      "T-G-G-T---TGC--C----GT\n",
      "  Score=7\n",
      "\n",
      "AA-GAGCTCGTT-CAACTAAT-T\n",
      "   | | |  |  |  |     |\n",
      "--TG-G-T--T-GC--C----GT\n",
      "  Score=7\n",
      "\n",
      "AAGAGCTCGTT-CAACTAAT-T\n",
      " .| | |  |  |  |     |\n",
      "-TG-G-T--T-GC--C----GT\n",
      "  Score=7\n",
      "\n",
      "AAGAGCTCGTT-CAACTAAT-T\n",
      ". | | |  |  |  |     |\n",
      "T-G-G-T--T-GC--C----GT\n",
      "  Score=7\n",
      "\n",
      "AA-GAGCTCGTTCAACTAAT-T\n",
      "   | | |  |.|  |     |\n",
      "--TG-G-T--TGC--C----GT\n",
      "  Score=7\n",
      "\n",
      "AAGAGCTCGTTCAACTAAT-T\n",
      " .| | |  |.|  |     |\n",
      "-TG-G-T--TGC--C----GT\n",
      "  Score=7\n",
      "\n",
      "AAGAGCTCGTTCAACTAAT-T\n",
      ". | | |  |.|  |     |\n",
      "T-G-G-T--TGC--C----GT\n",
      "  Score=7\n",
      "\n",
      "AA-GAGCTC-GTTCAACTAAT-T\n",
      "   | | |  |  |  |     |\n",
      "--TG-G-T-TG--C--C----GT\n",
      "  Score=7\n",
      "\n",
      "AAGAGCTC-GTTCAACTAAT-T\n",
      " .| | |  |  |  |     |\n",
      "-TG-G-T-TG--C--C----GT\n",
      "  Score=7\n",
      "\n",
      "AAGAGCTC-GTTCAACTAAT-T\n",
      ". | | |  |  |  |     |\n",
      "T-G-G-T-TG--C--C----GT\n",
      "  Score=7\n",
      "\n",
      "AA-GAGCTCGTTCAACTAAT-T\n",
      "   | | |.|  |  |     |\n",
      "--TG-G-TTG--C--C----GT\n",
      "  Score=7\n",
      "\n",
      "AAGAGCTCGTTCAACTAAT-T\n",
      " .| | |.|  |  |     |\n",
      "-TG-G-TTG--C--C----GT\n",
      "  Score=7\n",
      "\n",
      "AAGAGCTCGTTCAACTAAT-T\n",
      ". | | |.|  |  |     |\n",
      "T-G-G-TTG--C--C----GT\n",
      "  Score=7\n",
      "\n",
      "AA-GAGC-TCGTTCAACTAAT-T\n",
      "   | |  | |  |  |     |\n",
      "--TG-G-TT-G--C--C----GT\n",
      "  Score=7\n",
      "\n",
      "AAGAGC-TCGTTCAACTAAT-T\n",
      " .| |  | |  |  |     |\n",
      "-TG-G-TT-G--C--C----GT\n",
      "  Score=7\n",
      "\n",
      "AAGAGC-TCGTTCAACTAAT-T\n",
      ". | |  | |  |  |     |\n",
      "T-G-G-TT-G--C--C----GT\n",
      "  Score=7\n",
      "\n",
      "AA-GAGCTCGTTCAACTAAT-T\n",
      "   | |.| |  |  |     |\n",
      "--TG-GTT-G--C--C----GT\n",
      "  Score=7\n",
      "\n",
      "AAGAGCTCGTTCAACTAAT-T\n",
      " .| |.| |  |  |     |\n",
      "-TG-GTT-G--C--C----GT\n",
      "  Score=7\n",
      "\n",
      "AAGAGCTCGTTCAACTAAT-T\n",
      ". | |.| |  |  |     |\n",
      "T-G-GTT-G--C--C----GT\n",
      "  Score=7\n",
      "\n"
     ]
    },
    {
     "ename": "NameError",
     "evalue": "name 'hamming' is not defined",
     "output_type": "error",
     "traceback": [
      "\u001b[0;31m---------------------------------------------------------------------------\u001b[0m",
      "\u001b[0;31mNameError\u001b[0m                                 Traceback (most recent call last)",
      "Cell \u001b[0;32mIn[5], line 21\u001b[0m\n\u001b[1;32m     18\u001b[0m \u001b[38;5;28;01mfor\u001b[39;00m a \u001b[38;5;129;01min\u001b[39;00m alignments:\n\u001b[1;32m     19\u001b[0m     \u001b[38;5;28mprint\u001b[39m(format_alignment(\u001b[38;5;241m*\u001b[39ma))\n\u001b[0;32m---> 21\u001b[0m \u001b[43mhamming\u001b[49m(X,Y)\n",
      "\u001b[0;31mNameError\u001b[0m: name 'hamming' is not defined"
     ]
    }
   ],
   "source": [
    "# Import pairwise2 module\n",
    "from Bio import pairwise2\n",
    "\n",
    "# Import format_alignment method\n",
    "from Bio.pairwise2 import format_alignment\n",
    "\n",
    "\n",
    "X = generate_string(20)\n",
    "Y = generate_string(10)\n",
    "\n",
    "\n",
    "# Get a list of the global alignments between the two sequences ACGGGT and ACG\n",
    "# No parameters. Identical characters have score of 1, else 0.\n",
    "# No gap penalties.\n",
    "alignments = pairwise2.align.globalxx(X, Y)\n",
    "\n",
    "# Use format_alignment method to format the alignments in the list\n",
    "for a in alignments:\n",
    "    print(format_alignment(*a))\n",
    "    \n",
    "hamming(X,Y)"
   ]
  },
  {
   "cell_type": "code",
   "execution_count": 6,
   "id": "a148d5d3",
   "metadata": {},
   "outputs": [
    {
     "name": "stdout",
     "output_type": "stream",
     "text": [
      "AGAT--GGTTTCATTT-TGCAGGTTGCAGTG--CCGTTATAGCCG--AG-TG-----TG----GC-AA--\n",
      " | |  ||    |    ||  ||  ||| ||  ||  | |   ||  || ||     ||    || ||  \n",
      "-G-TCTGG----A---GTG--GG--GCA-TGTTCC--T-T---CGTCAGATGCACACTGAAACGCGAACT\n",
      "  Score=30\n",
      "\n",
      "AGA--TGGTTTCATTT-TGCAGGTTGCAGTG--CCGTTATAGCCG--AG-TG-----TG----GC-AA--\n",
      " |   |||    |    ||  ||  ||| ||  ||  | |   ||  || ||     ||    || ||  \n",
      "-G-TCTGG----A---GTG--GG--GCA-TGTTCC--T-T---CGTCAGATGCACACTGAAACGCGAACT\n",
      "  Score=30\n",
      "\n",
      "AGA-TGGTTTCATTT-TGCAGGTTGCAGTG--CCGTTATAGCCG--AG-TG-----TG----GC-AA--\n",
      " |. |||    |    ||  ||  ||| ||  ||  | |   ||  || ||     ||    || ||  \n",
      "-GTCTGG----A---GTG--GG--GCA-TGTTCC--T-T---CGTCAGATGCACACTGAAACGCGAACT\n",
      "  Score=30\n",
      "\n",
      "AG-ATGGTTTCATTT-TGCAGGTTGCAGTG--CCGTTATAGCCG--AG-TG-----TG----GC-AA--\n",
      " | .|||    |    ||  ||  ||| ||  ||  | |   ||  || ||     ||    || ||  \n",
      "-GTCTGG----A---GTG--GG--GCA-TGTTCC--T-T---CGTCAGATGCACACTGAAACGCGAACT\n",
      "  Score=30\n",
      "\n",
      "AGAT--GGTTTCATTTTGCAGGTTGCAGTG--CCGTTATAGCCG--AG-TG-----TG----GC-AA--\n",
      " | |  ||    |  .||  ||  ||| ||  ||  | |   ||  || ||     ||    || ||  \n",
      "-G-TCTGG----A--GTG--GG--GCA-TGTTCC--T-T---CGTCAGATGCACACTGAAACGCGAACT\n",
      "  Score=30\n",
      "\n",
      "AGA--TGGTTTCATTTTGCAGGTTGCAGTG--CCGTTATAGCCG--AG-TG-----TG----GC-AA--\n",
      " |   |||    |  .||  ||  ||| ||  ||  | |   ||  || ||     ||    || ||  \n",
      "-G-TCTGG----A--GTG--GG--GCA-TGTTCC--T-T---CGTCAGATGCACACTGAAACGCGAACT\n",
      "  Score=30\n",
      "\n",
      "AGA-TGGTTTCATTTTGCAGGTTGCAGTG--CCGTTATAGCCG--AG-TG-----TG----GC-AA--\n",
      " |. |||    |  .||  ||  ||| ||  ||  | |   ||  || ||     ||    || ||  \n",
      "-GTCTGG----A--GTG--GG--GCA-TGTTCC--T-T---CGTCAGATGCACACTGAAACGCGAACT\n",
      "  Score=30\n",
      "\n",
      "AG-ATGGTTTCATTTTGCAGGTTGCAGTG--CCGTTATAGCCG--AG-TG-----TG----GC-AA--\n",
      " | .|||    |  .||  ||  ||| ||  ||  | |   ||  || ||     ||    || ||  \n",
      "-GTCTGG----A--GTG--GG--GCA-TGTTCC--T-T---CGTCAGATGCACACTGAAACGCGAACT\n",
      "  Score=30\n",
      "\n",
      "AGAT--GGTTTCATTTTGCAGGTTGCAGTG--CCGTTATAGCCG--AG-TG-----TG----GC-AA--\n",
      " | |  ||    | . ||  ||  ||| ||  ||  | |   ||  || ||     ||    || ||  \n",
      "-G-TCTGG----A-G-TG--GG--GCA-TGTTCC--T-T---CGTCAGATGCACACTGAAACGCGAACT\n",
      "  Score=30\n",
      "\n",
      "AGA--TGGTTTCATTTTGCAGGTTGCAGTG--CCGTTATAGCCG--AG-TG-----TG----GC-AA--\n",
      " |   |||    | . ||  ||  ||| ||  ||  | |   ||  || ||     ||    || ||  \n",
      "-G-TCTGG----A-G-TG--GG--GCA-TGTTCC--T-T---CGTCAGATGCACACTGAAACGCGAACT\n",
      "  Score=30\n",
      "\n",
      "AGA-TGGTTTCATTTTGCAGGTTGCAGTG--CCGTTATAGCCG--AG-TG-----TG----GC-AA--\n",
      " |. |||    | . ||  ||  ||| ||  ||  | |   ||  || ||     ||    || ||  \n",
      "-GTCTGG----A-G-TG--GG--GCA-TGTTCC--T-T---CGTCAGATGCACACTGAAACGCGAACT\n",
      "  Score=30\n",
      "\n",
      "AG-ATGGTTTCATTTTGCAGGTTGCAGTG--CCGTTATAGCCG--AG-TG-----TG----GC-AA--\n",
      " | .|||    | . ||  ||  ||| ||  ||  | |   ||  || ||     ||    || ||  \n",
      "-GTCTGG----A-G-TG--GG--GCA-TGTTCC--T-T---CGTCAGATGCACACTGAAACGCGAACT\n",
      "  Score=30\n",
      "\n",
      "AGAT--GGTTTCATTTTGCAGGTTGCAGTG--CCGTTATAGCCG--AG-TG-----TG----GC-AA--\n",
      " | |  ||    |.  ||  ||  ||| ||  ||  | |   ||  || ||     ||    || ||  \n",
      "-G-TCTGG----AG--TG--GG--GCA-TGTTCC--T-T---CGTCAGATGCACACTGAAACGCGAACT\n",
      "  Score=30\n",
      "\n",
      "AGA--TGGTTTCATTTTGCAGGTTGCAGTG--CCGTTATAGCCG--AG-TG-----TG----GC-AA--\n",
      " |   |||    |.  ||  ||  ||| ||  ||  | |   ||  || ||     ||    || ||  \n",
      "-G-TCTGG----AG--TG--GG--GCA-TGTTCC--T-T---CGTCAGATGCACACTGAAACGCGAACT\n",
      "  Score=30\n",
      "\n",
      "AGA-TGGTTTCATTTTGCAGGTTGCAGTG--CCGTTATAGCCG--AG-TG-----TG----GC-AA--\n",
      " |. |||    |.  ||  ||  ||| ||  ||  | |   ||  || ||     ||    || ||  \n",
      "-GTCTGG----AG--TG--GG--GCA-TGTTCC--T-T---CGTCAGATGCACACTGAAACGCGAACT\n",
      "  Score=30\n",
      "\n",
      "AG-ATGGTTTCATTTTGCAGGTTGCAGTG--CCGTTATAGCCG--AG-TG-----TG----GC-AA--\n",
      " | .|||    |.  ||  ||  ||| ||  ||  | |   ||  || ||     ||    || ||  \n",
      "-GTCTGG----AG--TG--GG--GCA-TGTTCC--T-T---CGTCAGATGCACACTGAAACGCGAACT\n",
      "  Score=30\n",
      "\n",
      "AGAT--GGTTTCATT-TTGCAGGTTGCAGTG--CCGTTATAGCCG--AG-TG-----TG----GC-AA--\n",
      " | |  ||    |   | |  ||  ||| ||  ||  | |   ||  || ||     ||    || ||  \n",
      "-G-TCTGG----A--GT-G--GG--GCA-TGTTCC--T-T---CGTCAGATGCACACTGAAACGCGAACT\n",
      "  Score=30\n",
      "\n",
      "AGA--TGGTTTCATT-TTGCAGGTTGCAGTG--CCGTTATAGCCG--AG-TG-----TG----GC-AA--\n",
      " |   |||    |   | |  ||  ||| ||  ||  | |   ||  || ||     ||    || ||  \n",
      "-G-TCTGG----A--GT-G--GG--GCA-TGTTCC--T-T---CGTCAGATGCACACTGAAACGCGAACT\n",
      "  Score=30\n",
      "\n",
      "AGA-TGGTTTCATT-TTGCAGGTTGCAGTG--CCGTTATAGCCG--AG-TG-----TG----GC-AA--\n",
      " |. |||    |   | |  ||  ||| ||  ||  | |   ||  || ||     ||    || ||  \n",
      "-GTCTGG----A--GT-G--GG--GCA-TGTTCC--T-T---CGTCAGATGCACACTGAAACGCGAACT\n",
      "  Score=30\n",
      "\n",
      "AG-ATGGTTTCATT-TTGCAGGTTGCAGTG--CCGTTATAGCCG--AG-TG-----TG----GC-AA--\n",
      " | .|||    |   | |  ||  ||| ||  ||  | |   ||  || ||     ||    || ||  \n",
      "-GTCTGG----A--GT-G--GG--GCA-TGTTCC--T-T---CGTCAGATGCACACTGAAACGCGAACT\n",
      "  Score=30\n",
      "\n",
      "AGAT--GGTTTCATTTTGCAGGTTGCAGTG--CCGTTATAGCCG--AG-TG-----TG----GC-AA--\n",
      " | |  ||    | .| |  ||  ||| ||  ||  | |   ||  || ||     ||    || ||  \n",
      "-G-TCTGG----A-GT-G--GG--GCA-TGTTCC--T-T---CGTCAGATGCACACTGAAACGCGAACT\n",
      "  Score=30\n",
      "\n",
      "AGA--TGGTTTCATTTTGCAGGTTGCAGTG--CCGTTATAGCCG--AG-TG-----TG----GC-AA--\n",
      " |   |||    | .| |  ||  ||| ||  ||  | |   ||  || ||     ||    || ||  \n",
      "-G-TCTGG----A-GT-G--GG--GCA-TGTTCC--T-T---CGTCAGATGCACACTGAAACGCGAACT\n",
      "  Score=30\n",
      "\n",
      "AGA-TGGTTTCATTTTGCAGGTTGCAGTG--CCGTTATAGCCG--AG-TG-----TG----GC-AA--\n",
      " |. |||    | .| |  ||  ||| ||  ||  | |   ||  || ||     ||    || ||  \n",
      "-GTCTGG----A-GT-G--GG--GCA-TGTTCC--T-T---CGTCAGATGCACACTGAAACGCGAACT\n",
      "  Score=30\n",
      "\n",
      "AG-ATGGTTTCATTTTGCAGGTTGCAGTG--CCGTTATAGCCG--AG-TG-----TG----GC-AA--\n",
      " | .|||    | .| |  ||  ||| ||  ||  | |   ||  || ||     ||    || ||  \n",
      "-GTCTGG----A-GT-G--GG--GCA-TGTTCC--T-T---CGTCAGATGCACACTGAAACGCGAACT\n",
      "  Score=30\n",
      "\n",
      "AGAT--GGTTTCATTTTGCAGGTTGCAGTG--CCGTTATAGCCG--AG-TG-----TG----GC-AA--\n",
      " | |  ||    |. | |  ||  ||| ||  ||  | |   ||  || ||     ||    || ||  \n",
      "-G-TCTGG----AG-T-G--GG--GCA-TGTTCC--T-T---CGTCAGATGCACACTGAAACGCGAACT\n",
      "  Score=30\n",
      "\n",
      "AGA--TGGTTTCATTTTGCAGGTTGCAGTG--CCGTTATAGCCG--AG-TG-----TG----GC-AA--\n",
      " |   |||    |. | |  ||  ||| ||  ||  | |   ||  || ||     ||    || ||  \n",
      "-G-TCTGG----AG-T-G--GG--GCA-TGTTCC--T-T---CGTCAGATGCACACTGAAACGCGAACT\n",
      "  Score=30\n",
      "\n",
      "AGA-TGGTTTCATTTTGCAGGTTGCAGTG--CCGTTATAGCCG--AG-TG-----TG----GC-AA--\n",
      " |. |||    |. | |  ||  ||| ||  ||  | |   ||  || ||     ||    || ||  \n",
      "-GTCTGG----AG-T-G--GG--GCA-TGTTCC--T-T---CGTCAGATGCACACTGAAACGCGAACT\n",
      "  Score=30\n",
      "\n",
      "AG-ATGGTTTCATTTTGCAGGTTGCAGTG--CCGTTATAGCCG--AG-TG-----TG----GC-AA--\n",
      " | .|||    |. | |  ||  ||| ||  ||  | |   ||  || ||     ||    || ||  \n",
      "-GTCTGG----AG-T-G--GG--GCA-TGTTCC--T-T---CGTCAGATGCACACTGAAACGCGAACT\n",
      "  Score=30\n",
      "\n",
      "AGAT--GGTTTCAT-TTTGCAGGTTGCAGTG--CCGTTATAGCCG--AG-TG-----TG----GC-AA--\n",
      " | |  ||    |  |  |  ||  ||| ||  ||  | |   ||  || ||     ||    || ||  \n",
      "-G-TCTGG----A-GT--G--GG--GCA-TGTTCC--T-T---CGTCAGATGCACACTGAAACGCGAACT\n",
      "  Score=30\n",
      "\n",
      "AGA--TGGTTTCAT-TTTGCAGGTTGCAGTG--CCGTTATAGCCG--AG-TG-----TG----GC-AA--\n",
      " |   |||    |  |  |  ||  ||| ||  ||  | |   ||  || ||     ||    || ||  \n",
      "-G-TCTGG----A-GT--G--GG--GCA-TGTTCC--T-T---CGTCAGATGCACACTGAAACGCGAACT\n",
      "  Score=30\n",
      "\n",
      "AGA-TGGTTTCAT-TTTGCAGGTTGCAGTG--CCGTTATAGCCG--AG-TG-----TG----GC-AA--\n",
      " |. |||    |  |  |  ||  ||| ||  ||  | |   ||  || ||     ||    || ||  \n",
      "-GTCTGG----A-GT--G--GG--GCA-TGTTCC--T-T---CGTCAGATGCACACTGAAACGCGAACT\n",
      "  Score=30\n",
      "\n",
      "AG-ATGGTTTCAT-TTTGCAGGTTGCAGTG--CCGTTATAGCCG--AG-TG-----TG----GC-AA--\n",
      " | .|||    |  |  |  ||  ||| ||  ||  | |   ||  || ||     ||    || ||  \n",
      "-GTCTGG----A-GT--G--GG--GCA-TGTTCC--T-T---CGTCAGATGCACACTGAAACGCGAACT\n",
      "  Score=30\n",
      "\n",
      "AGAT--GGTTTCATTTTGCAGGTTGCAGTG--CCGTTATAGCCG--AG-TG-----TG----GC-AA--\n",
      " | |  ||    |.|  |  ||  ||| ||  ||  | |   ||  || ||     ||    || ||  \n",
      "-G-TCTGG----AGT--G--GG--GCA-TGTTCC--T-T---CGTCAGATGCACACTGAAACGCGAACT\n",
      "  Score=30\n",
      "\n",
      "AGA--TGGTTTCATTTTGCAGGTTGCAGTG--CCGTTATAGCCG--AG-TG-----TG----GC-AA--\n",
      " |   |||    |.|  |  ||  ||| ||  ||  | |   ||  || ||     ||    || ||  \n",
      "-G-TCTGG----AGT--G--GG--GCA-TGTTCC--T-T---CGTCAGATGCACACTGAAACGCGAACT\n",
      "  Score=30\n",
      "\n",
      "AGA-TGGTTTCATTTTGCAGGTTGCAGTG--CCGTTATAGCCG--AG-TG-----TG----GC-AA--\n",
      " |. |||    |.|  |  ||  ||| ||  ||  | |   ||  || ||     ||    || ||  \n",
      "-GTCTGG----AGT--G--GG--GCA-TGTTCC--T-T---CGTCAGATGCACACTGAAACGCGAACT\n",
      "  Score=30\n",
      "\n",
      "AG-ATGGTTTCATTTTGCAGGTTGCAGTG--CCGTTATAGCCG--AG-TG-----TG----GC-AA--\n",
      " | .|||    |.|  |  ||  ||| ||  ||  | |   ||  || ||     ||    || ||  \n",
      "-GTCTGG----AGT--G--GG--GCA-TGTTCC--T-T---CGTCAGATGCACACTGAAACGCGAACT\n",
      "  Score=30\n",
      "\n",
      "AGAT--GGTTTCA-TTTTGCAGGTTGCAGTG--CCGTTATAGCCG--AG-TG-----TG----GC-AA--\n",
      " | |  ||    | |   |  ||  ||| ||  ||  | |   ||  || ||     ||    || ||  \n",
      "-G-TCTGG----AGT---G--GG--GCA-TGTTCC--T-T---CGTCAGATGCACACTGAAACGCGAACT\n",
      "  Score=30\n",
      "\n",
      "AGA--TGGTTTCA-TTTTGCAGGTTGCAGTG--CCGTTATAGCCG--AG-TG-----TG----GC-AA--\n",
      " |   |||    | |   |  ||  ||| ||  ||  | |   ||  || ||     ||    || ||  \n",
      "-G-TCTGG----AGT---G--GG--GCA-TGTTCC--T-T---CGTCAGATGCACACTGAAACGCGAACT\n",
      "  Score=30\n",
      "\n",
      "AGA-TGGTTTCA-TTTTGCAGGTTGCAGTG--CCGTTATAGCCG--AG-TG-----TG----GC-AA--\n",
      " |. |||    | |   |  ||  ||| ||  ||  | |   ||  || ||     ||    || ||  \n",
      "-GTCTGG----AGT---G--GG--GCA-TGTTCC--T-T---CGTCAGATGCACACTGAAACGCGAACT\n",
      "  Score=30\n",
      "\n",
      "AG-ATGGTTTCA-TTTTGCAGGTTGCAGTG--CCGTTATAGCCG--AG-TG-----TG----GC-AA--\n",
      " | .|||    | |   |  ||  ||| ||  ||  | |   ||  || ||     ||    || ||  \n",
      "-GTCTGG----AGT---G--GG--GCA-TGTTCC--T-T---CGTCAGATGCACACTGAAACGCGAACT\n",
      "  Score=30\n",
      "\n"
     ]
    }
   ],
   "source": [
    "# Import pairwise2 module\n",
    "from Bio import pairwise2\n",
    "\n",
    "# Import format_alignment method\n",
    "from Bio.pairwise2 import format_alignment\n",
    "\n",
    "\n",
    "X = generate_string(50)\n",
    "Y = generate_string(50)\n",
    "\n",
    "\n",
    "# Get a list of the global alignments between the two sequences ACGGGT and ACG\n",
    "# No parameters. Identical characters have score of 1, else 0.\n",
    "# No gap penalties.\n",
    "alignments = pairwise2.align.globalxx(X, Y)\n",
    "\n",
    "# Use format_alignment method to format the alignments in the list\n",
    "for a in alignments:\n",
    "    print(format_alignment(*a))"
   ]
  },
  {
   "cell_type": "code",
   "execution_count": 8,
   "id": "cbbc5335",
   "metadata": {},
   "outputs": [
    {
     "ename": "TypeError",
     "evalue": "`seq1` and `seq2` must be Sequence instances, not 'str'",
     "output_type": "error",
     "traceback": [
      "\u001b[0;31m---------------------------------------------------------------------------\u001b[0m",
      "\u001b[0;31mTypeError\u001b[0m                                 Traceback (most recent call last)",
      "Cell \u001b[0;32mIn[8], line 5\u001b[0m\n\u001b[1;32m      3\u001b[0m X \u001b[38;5;241m=\u001b[39m generate_string(\u001b[38;5;241m50\u001b[39m)\n\u001b[1;32m      4\u001b[0m Y \u001b[38;5;241m=\u001b[39m generate_string(\u001b[38;5;241m50\u001b[39m)\n\u001b[0;32m----> 5\u001b[0m \u001b[43mhamming\u001b[49m\u001b[43m \u001b[49m\u001b[43m(\u001b[49m\u001b[43mX\u001b[49m\u001b[43m,\u001b[49m\u001b[43mY\u001b[49m\u001b[43m)\u001b[49m\n",
      "File \u001b[0;32m~/Python/biopython/lib/python3.9/site-packages/skbio/sequence/distance.py:89\u001b[0m, in \u001b[0;36mhamming\u001b[0;34m(seq1, seq2)\u001b[0m\n\u001b[1;32m     39\u001b[0m \u001b[38;5;129m@experimental\u001b[39m(as_of\u001b[38;5;241m=\u001b[39m\u001b[38;5;124m'\u001b[39m\u001b[38;5;124m0.4.2\u001b[39m\u001b[38;5;124m'\u001b[39m)\n\u001b[1;32m     40\u001b[0m \u001b[38;5;28;01mdef\u001b[39;00m \u001b[38;5;21mhamming\u001b[39m(seq1, seq2):\n\u001b[1;32m     41\u001b[0m \u001b[38;5;250m    \u001b[39m\u001b[38;5;124;03m\"\"\"Compute Hamming distance between two sequences.\u001b[39;00m\n\u001b[1;32m     42\u001b[0m \n\u001b[1;32m     43\u001b[0m \u001b[38;5;124;03m    The Hamming distance between two equal-length sequences is the proportion\u001b[39;00m\n\u001b[0;32m   (...)\u001b[0m\n\u001b[1;32m     87\u001b[0m \n\u001b[1;32m     88\u001b[0m \u001b[38;5;124;03m    \"\"\"\u001b[39;00m\n\u001b[0;32m---> 89\u001b[0m     \u001b[43m_check_seqs\u001b[49m\u001b[43m(\u001b[49m\u001b[43mseq1\u001b[49m\u001b[43m,\u001b[49m\u001b[43m \u001b[49m\u001b[43mseq2\u001b[49m\u001b[43m)\u001b[49m\n\u001b[1;32m     91\u001b[0m     \u001b[38;5;66;03m# Hamming requires equal length sequences. We are checking this here\u001b[39;00m\n\u001b[1;32m     92\u001b[0m     \u001b[38;5;66;03m# because the error you would get otherwise is cryptic.\u001b[39;00m\n\u001b[1;32m     93\u001b[0m     \u001b[38;5;28;01mif\u001b[39;00m \u001b[38;5;28mlen\u001b[39m(seq1) \u001b[38;5;241m!=\u001b[39m \u001b[38;5;28mlen\u001b[39m(seq2):\n",
      "File \u001b[0;32m~/Python/biopython/lib/python3.9/site-packages/skbio/sequence/distance.py:170\u001b[0m, in \u001b[0;36m_check_seqs\u001b[0;34m(seq1, seq2)\u001b[0m\n\u001b[1;32m    168\u001b[0m \u001b[38;5;28;01mfor\u001b[39;00m seq \u001b[38;5;129;01min\u001b[39;00m seq1, seq2:\n\u001b[1;32m    169\u001b[0m     \u001b[38;5;28;01mif\u001b[39;00m \u001b[38;5;129;01mnot\u001b[39;00m \u001b[38;5;28misinstance\u001b[39m(seq, skbio\u001b[38;5;241m.\u001b[39mSequence):\n\u001b[0;32m--> 170\u001b[0m         \u001b[38;5;28;01mraise\u001b[39;00m \u001b[38;5;167;01mTypeError\u001b[39;00m(\n\u001b[1;32m    171\u001b[0m             \u001b[38;5;124m\"\u001b[39m\u001b[38;5;124m`seq1` and `seq2` must be Sequence instances, not \u001b[39m\u001b[38;5;132;01m%r\u001b[39;00m\u001b[38;5;124m\"\u001b[39m\n\u001b[1;32m    172\u001b[0m             \u001b[38;5;241m%\u001b[39m \u001b[38;5;28mtype\u001b[39m(seq)\u001b[38;5;241m.\u001b[39m\u001b[38;5;18m__name__\u001b[39m)\n\u001b[1;32m    174\u001b[0m \u001b[38;5;66;03m# Asserts sequences have the same type\u001b[39;00m\n\u001b[1;32m    175\u001b[0m \u001b[38;5;28;01mif\u001b[39;00m \u001b[38;5;28mtype\u001b[39m(seq1) \u001b[38;5;129;01mis\u001b[39;00m \u001b[38;5;129;01mnot\u001b[39;00m \u001b[38;5;28mtype\u001b[39m(seq2):\n",
      "\u001b[0;31mTypeError\u001b[0m: `seq1` and `seq2` must be Sequence instances, not 'str'"
     ]
    }
   ],
   "source": [
    "from skbio import Sequence\n",
    "from skbio.sequence.distance import hamming \n",
    "X = generate_string(50)\n",
    "Y = generate_string(50)\n",
    "hamming (X,Y)\n"
   ]
  },
  {
   "cell_type": "code",
   "execution_count": 9,
   "id": "e63af6e7",
   "metadata": {},
   "outputs": [
    {
     "data": {
      "text/plain": [
       "'CTAGCGCCATTGCTACACTAGAACTTTCTACATTTTTATGAAAGGGCTAC'"
      ]
     },
     "execution_count": 9,
     "metadata": {},
     "output_type": "execute_result"
    }
   ],
   "source": [
    "X"
   ]
  },
  {
   "cell_type": "code",
   "execution_count": 10,
   "id": "a7e9c07c",
   "metadata": {},
   "outputs": [
    {
     "data": {
      "text/plain": [
       "'CGAAGATAACGTTAAATCAAATATTTCGATGAAGGCAGCAAACGGTTCAA'"
      ]
     },
     "execution_count": 10,
     "metadata": {},
     "output_type": "execute_result"
    }
   ],
   "source": [
    "Y"
   ]
  },
  {
   "cell_type": "code",
   "execution_count": 11,
   "id": "dfa66e5b",
   "metadata": {},
   "outputs": [
    {
     "ename": "NameError",
     "evalue": "name 'skbio' is not defined",
     "output_type": "error",
     "traceback": [
      "\u001b[0;31m---------------------------------------------------------------------------\u001b[0m",
      "\u001b[0;31mNameError\u001b[0m                                 Traceback (most recent call last)",
      "Cell \u001b[0;32mIn[11], line 1\u001b[0m\n\u001b[0;32m----> 1\u001b[0m \u001b[43mskbio\u001b[49m\u001b[38;5;241m.\u001b[39msequence\u001b[38;5;241m.\u001b[39mdistance\u001b[38;5;241m.\u001b[39mhamming(X,Y)\n",
      "\u001b[0;31mNameError\u001b[0m: name 'skbio' is not defined"
     ]
    }
   ],
   "source": [
    "skbio.sequence.distance.hamming(X,Y)"
   ]
  },
  {
   "cell_type": "code",
   "execution_count": 14,
   "id": "fc98e486",
   "metadata": {},
   "outputs": [
    {
     "name": "stdout",
     "output_type": "stream",
     "text": [
      "\u001b[31mERROR: Could not find a version that satisfies the requirement skbio (from versions: none)\u001b[0m\u001b[31m\n",
      "\u001b[0m\u001b[31mERROR: No matching distribution found for skbio\u001b[0m\u001b[31m\n",
      "\u001b[0m\n",
      "\u001b[1m[\u001b[0m\u001b[34;49mnotice\u001b[0m\u001b[1;39;49m]\u001b[0m\u001b[39;49m A new release of pip available: \u001b[0m\u001b[31;49m22.2.2\u001b[0m\u001b[39;49m -> \u001b[0m\u001b[32;49m23.0\u001b[0m\n",
      "\u001b[1m[\u001b[0m\u001b[34;49mnotice\u001b[0m\u001b[1;39;49m]\u001b[0m\u001b[39;49m To update, run: \u001b[0m\u001b[32;49mpip install --upgrade pip\u001b[0m\n"
     ]
    }
   ],
   "source": [
    "!pip install skbio"
   ]
  },
  {
   "cell_type": "code",
   "execution_count": 15,
   "id": "aa5e5059",
   "metadata": {},
   "outputs": [
    {
     "name": "stdout",
     "output_type": "stream",
     "text": [
      "Collecting scipy\n",
      "  Downloading scipy-1.7.3-cp37-cp37m-manylinux_2_12_x86_64.manylinux2010_x86_64.whl (38.1 MB)\n",
      "\u001b[2K     \u001b[90m━━━━━━━━━━━━━━━━━━━━━━━━━━━━━━━━━━━━━━━━\u001b[0m \u001b[32m38.1/38.1 MB\u001b[0m \u001b[31m4.0 MB/s\u001b[0m eta \u001b[36m0:00:00\u001b[0m00:01\u001b[0m00:01\u001b[0m\n",
      "\u001b[?25hRequirement already satisfied: numpy<1.23.0,>=1.16.5 in /home/monica/.pyenv/versions/3.7.0/lib/python3.7/site-packages (from scipy) (1.21.6)\n",
      "Installing collected packages: scipy\n",
      "Successfully installed scipy-1.7.3\n",
      "\n",
      "\u001b[1m[\u001b[0m\u001b[34;49mnotice\u001b[0m\u001b[1;39;49m]\u001b[0m\u001b[39;49m A new release of pip available: \u001b[0m\u001b[31;49m22.2.2\u001b[0m\u001b[39;49m -> \u001b[0m\u001b[32;49m23.0\u001b[0m\n",
      "\u001b[1m[\u001b[0m\u001b[34;49mnotice\u001b[0m\u001b[1;39;49m]\u001b[0m\u001b[39;49m To update, run: \u001b[0m\u001b[32;49mpip install --upgrade pip\u001b[0m\n"
     ]
    }
   ],
   "source": [
    "!pip install scipy\n"
   ]
  },
  {
   "cell_type": "code",
   "execution_count": 37,
   "id": "2f1d7703",
   "metadata": {},
   "outputs": [
    {
     "name": "stdout",
     "output_type": "stream",
     "text": [
      "Hamming distance between X & Y vectors: 4.0\n"
     ]
    }
   ],
   "source": [
    "from scipy.spatial.distance import hamming\n",
    "# define vectors\n",
    "\n",
    "X = generate_string(4)\n",
    "Y = generate_string(4)\n",
    "\n",
    "#calculate Hamming distance between the two vectors\n",
    "result = hamming(X,Y) *len(X)\n",
    "#print the Hamming distance between the two vectors\n",
    "print('Hamming distance between X & Y vectors:',result)"
   ]
  },
  {
   "cell_type": "code",
   "execution_count": 38,
   "id": "8cde159b",
   "metadata": {},
   "outputs": [
    {
     "data": {
      "text/plain": [
       "'GATA'"
      ]
     },
     "execution_count": 38,
     "metadata": {},
     "output_type": "execute_result"
    }
   ],
   "source": [
    "X"
   ]
  },
  {
   "cell_type": "code",
   "execution_count": 39,
   "id": "bfc74a79",
   "metadata": {},
   "outputs": [
    {
     "data": {
      "text/plain": [
       "'GAGA'"
      ]
     },
     "execution_count": 39,
     "metadata": {},
     "output_type": "execute_result"
    }
   ],
   "source": [
    "Y"
   ]
  },
  {
   "cell_type": "code",
   "execution_count": 59,
   "id": "4213d888",
   "metadata": {},
   "outputs": [],
   "source": [
    "dna1 = 'ACCTAT'\n",
    "dna2 = 'CATTGA'\n",
    "\n",
    "global n \n",
    "def distance(strand_a, strand_b):\n",
    "    if len(strand_a) == len(strand_b):\n",
    "        i = 0\n",
    "        n = 0\n",
    "        while i < len(strand_a):\n",
    "            if strand_a[i] != strand_b[i]:\n",
    "                i += 1\n",
    "                n += 1\n",
    "            else:\n",
    "                i += 1\n",
    "        return(n)\n",
    "    else:\n",
    "        raise ValueError(\"The strings are not the same length\")"
   ]
  },
  {
   "cell_type": "code",
   "execution_count": 61,
   "id": "f50f5630",
   "metadata": {},
   "outputs": [
    {
     "data": {
      "text/plain": [
       "5"
      ]
     },
     "execution_count": 61,
     "metadata": {},
     "output_type": "execute_result"
    }
   ],
   "source": [
    "distance(dna1,dna2)"
   ]
  },
  {
   "cell_type": "code",
   "execution_count": 62,
   "id": "632ad5c2",
   "metadata": {},
   "outputs": [
    {
     "data": {
      "text/plain": [
       "'ACCTAT'"
      ]
     },
     "execution_count": 62,
     "metadata": {},
     "output_type": "execute_result"
    }
   ],
   "source": [
    "dna1"
   ]
  },
  {
   "cell_type": "code",
   "execution_count": 63,
   "id": "a8165d88",
   "metadata": {},
   "outputs": [
    {
     "data": {
      "text/plain": [
       "'CATTGA'"
      ]
     },
     "execution_count": 63,
     "metadata": {},
     "output_type": "execute_result"
    }
   ],
   "source": [
    "dna2"
   ]
  },
  {
   "cell_type": "code",
   "execution_count": 64,
   "id": "52b072dc",
   "metadata": {},
   "outputs": [],
   "source": [
    "X = generate_string(4)\n",
    "Y = generate_string(4)\n",
    "\n",
    "\n",
    "global n \n",
    "def distance(strand_a, strand_b):\n",
    "    if len(strand_a) == len(strand_b):\n",
    "        i = 0\n",
    "        n = 0\n",
    "        while i < len(strand_a):\n",
    "            if strand_a[i] != strand_b[i]:\n",
    "                i += 1\n",
    "                n += 1\n",
    "            else:\n",
    "                i += 1\n",
    "        return(n)\n",
    "    else:\n",
    "        raise ValueError(\"The strings are not the same length\")"
   ]
  },
  {
   "cell_type": "code",
   "execution_count": 65,
   "id": "5bbb6338",
   "metadata": {},
   "outputs": [
    {
     "data": {
      "text/plain": [
       "3"
      ]
     },
     "execution_count": 65,
     "metadata": {},
     "output_type": "execute_result"
    }
   ],
   "source": [
    "distance(X,Y)"
   ]
  },
  {
   "cell_type": "code",
   "execution_count": 66,
   "id": "da6115d3",
   "metadata": {},
   "outputs": [
    {
     "data": {
      "text/plain": [
       "'GCGT'"
      ]
     },
     "execution_count": 66,
     "metadata": {},
     "output_type": "execute_result"
    }
   ],
   "source": [
    "    X"
   ]
  },
  {
   "cell_type": "code",
   "execution_count": 67,
   "id": "e60a2670",
   "metadata": {},
   "outputs": [
    {
     "data": {
      "text/plain": [
       "'CAGG'"
      ]
     },
     "execution_count": 67,
     "metadata": {},
     "output_type": "execute_result"
    }
   ],
   "source": [
    "Y"
   ]
  },
  {
   "cell_type": "code",
   "execution_count": null,
   "id": "956fd3b5",
   "metadata": {},
   "outputs": [],
   "source": []
  }
 ],
 "metadata": {
  "kernelspec": {
   "display_name": "Python 3 (ipykernel)",
   "language": "python",
   "name": "python3"
  },
  "language_info": {
   "codemirror_mode": {
    "name": "ipython",
    "version": 3
   },
   "file_extension": ".py",
   "mimetype": "text/x-python",
   "name": "python",
   "nbconvert_exporter": "python",
   "pygments_lexer": "ipython3",
   "version": "3.9.2"
  }
 },
 "nbformat": 4,
 "nbformat_minor": 5
}
